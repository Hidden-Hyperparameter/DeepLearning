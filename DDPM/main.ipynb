{
 "cells": [
  {
   "cell_type": "code",
   "execution_count": 1,
   "metadata": {},
   "outputs": [
    {
     "name": "stdout",
     "output_type": "stream",
     "text": [
      "Wed Sep 18 10:49:51 2024       \n",
      "+---------------------------------------------------------------------------------------+\n",
      "| NVIDIA-SMI 535.86.10              Driver Version: 535.86.10    CUDA Version: 12.2     |\n",
      "|-----------------------------------------+----------------------+----------------------+\n",
      "| GPU  Name                 Persistence-M | Bus-Id        Disp.A | Volatile Uncorr. ECC |\n",
      "| Fan  Temp   Perf          Pwr:Usage/Cap |         Memory-Usage | GPU-Util  Compute M. |\n",
      "|                                         |                      |               MIG M. |\n",
      "|=========================================+======================+======================|\n",
      "|   0  Tesla V100-SXM2-32GB           On  | 00000004:04:00.0 Off |                    0 |\n",
      "| N/A   47C    P0              68W / 184W |      0MiB / 32768MiB |      0%      Default |\n",
      "|                                         |                      |                  N/A |\n",
      "+-----------------------------------------+----------------------+----------------------+\n",
      "                                                                                         \n",
      "+---------------------------------------------------------------------------------------+\n",
      "| Processes:                                                                            |\n",
      "|  GPU   GI   CI        PID   Type   Process name                            GPU Memory |\n",
      "|        ID   ID                                                             Usage      |\n",
      "|=======================================================================================|\n",
      "|  No running processes found                                                           |\n",
      "+---------------------------------------------------------------------------------------+\n",
      "/nobackup/users/zhh24/anaconda3/envs/DYY/bin/python\n"
     ]
    }
   ],
   "source": [
    "!nvidia-smi\n",
    "!which python | grep DYY"
   ]
  },
  {
   "cell_type": "code",
   "execution_count": 2,
   "metadata": {},
   "outputs": [],
   "source": [
    "import torch\n",
    "torch.manual_seed(3407)\n",
    "torch.backends.cudnn.deterministic = True"
   ]
  },
  {
   "cell_type": "markdown",
   "metadata": {},
   "source": [
    "# Model"
   ]
  },
  {
   "cell_type": "code",
   "execution_count": 3,
   "metadata": {},
   "outputs": [],
   "source": [
    "# import torch\n",
    "# import torch.nn as nn\n",
    "# import torch.nn.functional as F\n",
    "\n",
    "# class SinousEmbedding(nn.Module):\n",
    "#     def __init__(self, dim) -> None:\n",
    "#         super().__init__()\n",
    "#         assert dim%2==0,NotImplementedError()\n",
    "#         self.angles = (1000.**(-2/dim))**torch.arange(1,dim//2+1,1,dtype=torch.float).cuda()\n",
    "#         self.angles.requires_grad_(False)\n",
    "#     def forward(self,x):\n",
    "#         angles = torch.einsum('m,i->im',self.angles,x.float())\n",
    "#         return torch.cat((torch.sin(angles),torch.cos(angles)),dim=1)\n",
    "\n",
    "# class DDPM(nn.Module):\n",
    "#     def __init__(self, *args, **kwargs) -> None:\n",
    "#         super().__init__(*args, **kwargs)\n",
    "#         self.in_size = 28 * 28\n",
    "#         self.t_embedding_dim = 256\n",
    "#         self.t_embedding = SinousEmbedding(dim=self.t_embedding_dim)\n",
    "#         self.up = nn.ModuleList([\n",
    "#             nn.Sequential(\n",
    "#                 nn.Linear(784+self.t_embedding_dim,64),\n",
    "#                 nn.ReLU(),\n",
    "#             ),\n",
    "#             nn.Sequential(\n",
    "#                 nn.Linear(64,32),\n",
    "#                 nn.ReLU(),\n",
    "#             ),\n",
    "#             # nn.Sequential(\n",
    "#             #     nn.Linear(256,256),\n",
    "#             #     # nn.LeakyReLU(0.1),\n",
    "#             # ),\n",
    "#         ])\n",
    "#         self.middle = nn.ModuleList([\n",
    "#             nn.Linear(32,32),\n",
    "#             # nn.LeakyReLU(0.1),\n",
    "#         ])\n",
    "#         self.down= nn.ModuleList([\n",
    "#             nn.Sequential(\n",
    "#                 nn.Linear(32,32),\n",
    "#                 nn.ReLU(),\n",
    "#             ),\n",
    "#             # nn.Sequential(\n",
    "#             #     nn.Linear(256,256),\n",
    "#             #     # nn.LeakyReLU(0.1),\n",
    "#             # ),\n",
    "#             nn.Sequential(\n",
    "#                 nn.Linear(32,64),\n",
    "#                 nn.ReLU(),\n",
    "#             ),\n",
    "#         ])\n",
    "#         self.end_mlp = nn.Linear(64,784)\n",
    "#         self.apply_init()\n",
    "\n",
    "#     def apply_init(self):\n",
    "#         for m in self.modules():\n",
    "#             if isinstance(m, nn.Linear):\n",
    "#                 nn.init.xavier_normal_(m.weight)\n",
    "#                 nn.init.constant_(m.bias, 0)\n",
    "\n",
    "#     def forward(self,x,t):\n",
    "#         x = x.reshape(-1,784)\n",
    "#         ttensor = self.t_embedding(t) # [batch, 256]\n",
    "#         batch = x.shape[0]\n",
    "#         xc = x.clone()\n",
    "#         ups = []\n",
    "#         x = torch.cat((x,ttensor),dim=-1)\n",
    "#         for ly in self.up:\n",
    "#             x = ly(x)\n",
    "#             ups.append(x.clone())\n",
    "#         for ly in self.middle:\n",
    "#             x = ly(x)\n",
    "#         for ly in self.down:\n",
    "#             x = ly(x) + ups.pop()\n",
    "\n",
    "#         x = self.end_mlp(x)\n",
    "#         x = (x + xc)\n",
    "#         return x"
   ]
  },
  {
   "cell_type": "code",
   "execution_count": 4,
   "metadata": {},
   "outputs": [],
   "source": [
    "import torch\n",
    "import torch.nn as nn\n",
    "import torch.nn.functional as F\n",
    "\n",
    "class SinousEmbedding(nn.Module):\n",
    "    def __init__(self, dim) -> None:\n",
    "        super().__init__()\n",
    "        assert dim%2==0,NotImplementedError()\n",
    "        self.angles = (10000.**(-2/dim))**torch.arange(1,dim//2+1,1,dtype=torch.float).cuda()\n",
    "        self.angles.requires_grad_(False)\n",
    "    def forward(self,x):\n",
    "        angles = torch.einsum('m,i->im',self.angles,x.float())\n",
    "        return torch.cat((torch.sin(angles),torch.cos(angles)),dim=1)\n",
    "    \n",
    "class ResidualBlock(nn.Module):\n",
    "\n",
    "    def __init__(self,channels=128,kernel_size=3,t_dim=64) -> None:\n",
    "        super().__init__()\n",
    "        self.conv1 = nn.Conv2d(channels,channels,kernel_size=kernel_size,padding=kernel_size//2)\n",
    "        self.t_net = nn.Linear(t_dim,channels)\n",
    "        self.conv2 = nn.Conv2d(channels,channels,kernel_size=kernel_size,padding=kernel_size//2)\n",
    "        self.conv1.weight.data.fill_(0)\n",
    "        self.conv2.weight.data.fill_(0)\n",
    "        self.t_net.weight.data.fill_(0)\n",
    "        self.conv1.bias.data.fill_(0)\n",
    "        self.conv2.bias.data.fill_(0)\n",
    "        self.t_net.bias.data.fill_(0)\n",
    "    \n",
    "    def forward(self,x,t):\n",
    "        xc = x.clone()\n",
    "        x = self.conv1(x.relu())\n",
    "        x = x + self.t_net(t).unsqueeze(-1).unsqueeze(-1).expand(t.shape[0],x.shape[1],x.shape[2],x.shape[3])\n",
    "        x = F.relu(x)\n",
    "        x = self.conv2(x)\n",
    "        return x + xc\n",
    "\n",
    "\n",
    "class F_x_t(nn.Module):\n",
    "\n",
    "    def __init__(self,in_channels,out_channels,out_size,kernel_size=3,t_shape=64,attn=False,attn_dim=32,residual=True) -> None:\n",
    "        super().__init__()\n",
    "        # self.t_channels = out_channels // 2\n",
    "        # self.conv_channels = out_channels - self.t_channels\n",
    "        self.t_channels = out_channels\n",
    "        self.conv_channels = out_channels\n",
    "        self.conv = nn.Conv2d(in_channels, self.conv_channels, kernel_size=kernel_size, padding=kernel_size//2)\n",
    "        self.out_size = out_size\n",
    "        self.fc = nn.Linear(t_shape, self.t_channels)\n",
    "        self.attn = attn\n",
    "        self.residual = residual\n",
    "        if attn:\n",
    "            self.Q  = nn.Conv2d(out_channels, attn_dim, kernel_size=1)\n",
    "            self.K  = nn.Conv2d(out_channels, attn_dim, kernel_size=1)\n",
    "            self.V  = nn.Conv2d(out_channels, out_channels, kernel_size=1)\n",
    "        if residual:\n",
    "            self.res = ResidualBlock(channels=out_channels,kernel_size=kernel_size,t_dim=t_shape)\n",
    "        # self.fc = nn.Embedding(t_shape, self.t_num)\n",
    "\n",
    "    def forward(self, x, t):\n",
    "        if self.t_channels == 0:\n",
    "            raise NotImplementedError()\n",
    "            return self.conv(x)\n",
    "        # return torch.cat([self.conv(x),self.fc(t).unsqueeze(-1).unsqueeze(-1).expand(t.shape[0], self.t_channels, self.out_size, self.out_size)],dim=1).relu()\n",
    "        val = self.conv(x) + self.fc(t).unsqueeze(-1).unsqueeze(-1).expand(t.shape[0], self.t_channels, self.out_size, self.out_size)\n",
    "        if self.residual:\n",
    "            val = self.res(val,t)\n",
    "        if self.attn:\n",
    "            q = self.Q(val)\n",
    "            k = self.K(val)\n",
    "            v = self.V(val)\n",
    "            attn_score = torch.einsum('bchw,bcxy->bhwxy',q,k).reshape(q.shape[0],*q.shape[-2:],-1)\n",
    "            attn_score = attn_score.softmax(dim=-1).reshape(q.shape[0],*q.shape[-2:],*k.shape[-2:])\n",
    "            return torch.einsum('bhwxy,bcxy->bchw',attn_score,v).relu()\n",
    "        return val.relu()\n",
    "\n",
    "class DDPM(nn.Module):\n",
    "    def __init__(self, *args, **kwargs) -> None:\n",
    "        super().__init__(*args, **kwargs)\n",
    "        self.t_embedding_dim = 32\n",
    "        self.t_embedding = SinousEmbedding(dim=self.t_embedding_dim)\n",
    "        self.up= nn.ModuleList([\n",
    "            F_x_t(in_channels=1,out_channels=32,out_size=32,kernel_size=3,t_shape=self.t_embedding_dim),\n",
    "            F_x_t(in_channels=32,out_channels=64,out_size=16,kernel_size=3,t_shape=self.t_embedding_dim),\n",
    "            F_x_t(in_channels=64,out_channels=128,out_size=8,kernel_size=3,t_shape=self.t_embedding_dim,attn=False),\n",
    "            # ResidualBlock(channels=128,kernel_size=3,t_dim=self.t_embedding_dim),\n",
    "            # F_x_t(in_channels=128,out_channels=128,out_size=4,kernel_size=1,t_shape=self.t_embedding_dim),\n",
    "        ])\n",
    "        self.middle = nn.ModuleList([\n",
    "            nn.Identity()\n",
    "            # ResidualBlock(channels=128,kernel_size=3,t_dim=self.t_embedding_dim),\n",
    "            # F_x_t(in_channels=128,out_channels=128,out_size=4,kernel_size=1,t_shape=self.t_embedding_dim,attn=False),\n",
    "        ])\n",
    "        self.down= nn.ModuleList([\n",
    "            # F_x_t(in_channels=128,out_channels=128,out_size=2,kernel_size=1,t_shape=self.t_embedding_dim),\n",
    "            F_x_t(in_channels=128,out_channels=64,out_size=8,kernel_size=3,t_shape=self.t_embedding_dim,attn=False),\n",
    "            F_x_t(in_channels=64,out_channels=32,out_size=16,kernel_size=3,t_shape=self.t_embedding_dim),\n",
    "            F_x_t(in_channels=32,out_channels=16,out_size=32,kernel_size=3,t_shape=self.t_embedding_dim),\n",
    "        ])\n",
    "        # self.end_mlp = nn.Conv2d(32,1,kernel_size=3,padding=1)\n",
    "        self.end_mlp = nn.Conv2d(16,1,kernel_size=1)\n",
    "\n",
    "    def forward(self,x,t):\n",
    "        x = x.reshape(-1,1,28,28)\n",
    "        x = F.pad(x,(2,2,2,2),mode='constant',value=0)\n",
    "        ttensor = self.t_embedding(t) # [batch, 256]\n",
    "        batch = x.shape[0]\n",
    "        # xc = x.clone()            print(attn_score.shape)\n",
    "\n",
    "        ups = []\n",
    "        for ly in self.up:\n",
    "            x = ly(x,ttensor)\n",
    "            ups.append(x.clone()) # append: 28x28, 14x14\n",
    "            x = nn.AvgPool2d(2)(x)\n",
    "        for ly in self.middle:\n",
    "            # x = ly(x,ttensor)\n",
    "            x = ly(x)\n",
    "        for ly in self.down:\n",
    "            x = nn.Upsample(scale_factor=2)(x) + ups.pop() # 14x14, 28x28\n",
    "            x = ly(x,ttensor)\n",
    "            # x = nn.Upsample(scale_factor=2)(x) + ups.pop()\n",
    "        x = self.end_mlp(x)\n",
    "        x = x[:,:,2:30,2:30]\n",
    "        return x.reshape(batch,28*28)"
   ]
  },
  {
   "cell_type": "markdown",
   "metadata": {},
   "source": [
    "# Train"
   ]
  },
  {
   "cell_type": "code",
   "execution_count": 5,
   "metadata": {},
   "outputs": [
    {
     "name": "stdout",
     "output_type": "stream",
     "text": [
      "appended /home/zhh24/DeepLearning\n",
      "tensor([0.9000, 0.8982, 0.8964, 0.8946, 0.8928, 0.8910, 0.8892, 0.8874, 0.8856,\n",
      "        0.8838, 0.8820, 0.8802, 0.8784, 0.8766, 0.8748, 0.8730, 0.8712, 0.8694,\n",
      "        0.8676, 0.8658, 0.8640, 0.8622, 0.8604, 0.8586, 0.8568, 0.8550, 0.8533,\n",
      "        0.8515, 0.8497, 0.8479, 0.8461, 0.8443, 0.8425, 0.8407, 0.8389, 0.8371,\n",
      "        0.8353, 0.8335, 0.8317, 0.8299, 0.8281, 0.8263, 0.8245, 0.8227, 0.8209,\n",
      "        0.8191, 0.8173, 0.8155, 0.8137, 0.8119, 0.8101, 0.8083, 0.8065, 0.8047,\n",
      "        0.8029, 0.8011, 0.7993, 0.7975, 0.7957, 0.7939, 0.7921, 0.7903, 0.7885,\n",
      "        0.7867, 0.7849, 0.7831, 0.7813, 0.7795, 0.7777, 0.7759, 0.7741, 0.7723,\n",
      "        0.7705, 0.7687, 0.7669, 0.7651, 0.7634, 0.7616, 0.7598, 0.7580, 0.7562,\n",
      "        0.7544, 0.7526, 0.7508, 0.7490, 0.7472, 0.7454, 0.7436, 0.7418, 0.7400,\n",
      "        0.7382, 0.7364, 0.7346, 0.7328, 0.7310, 0.7292, 0.7274, 0.7256, 0.7238,\n",
      "        0.7220, 0.7202, 0.7184, 0.7166, 0.7148, 0.7130, 0.7112, 0.7094, 0.7076,\n",
      "        0.7058, 0.7040, 0.7022, 0.7004, 0.6986, 0.6968, 0.6950, 0.6932, 0.6914,\n",
      "        0.6896, 0.6878, 0.6860, 0.6842, 0.6824, 0.6806, 0.6788, 0.6770, 0.6752,\n",
      "        0.6735, 0.6717, 0.6699, 0.6681, 0.6663, 0.6645, 0.6627, 0.6609, 0.6591,\n",
      "        0.6573, 0.6555, 0.6537, 0.6519, 0.6501, 0.6483, 0.6465, 0.6447, 0.6429,\n",
      "        0.6411, 0.6393, 0.6375, 0.6357, 0.6339, 0.6321, 0.6303, 0.6285, 0.6267,\n",
      "        0.6249, 0.6231, 0.6213, 0.6195, 0.6177, 0.6159, 0.6141, 0.6123, 0.6105,\n",
      "        0.6087, 0.6069, 0.6051, 0.6033, 0.6015, 0.5997, 0.5979, 0.5961, 0.5943,\n",
      "        0.5925, 0.5907, 0.5889, 0.5871, 0.5853, 0.5836, 0.5818, 0.5800, 0.5782,\n",
      "        0.5764, 0.5746, 0.5728, 0.5710, 0.5692, 0.5674, 0.5656, 0.5638, 0.5620,\n",
      "        0.5602, 0.5584, 0.5566, 0.5548, 0.5530, 0.5512, 0.5494, 0.5476, 0.5458,\n",
      "        0.5440, 0.5422, 0.5404, 0.5386, 0.5368, 0.5350, 0.5332, 0.5314, 0.5296,\n",
      "        0.5278, 0.5260, 0.5242, 0.5224, 0.5206, 0.5188, 0.5170, 0.5152, 0.5134,\n",
      "        0.5116, 0.5098, 0.5080, 0.5062, 0.5044, 0.5026, 0.5008, 0.4990, 0.4972,\n",
      "        0.4954, 0.4937, 0.4919, 0.4901, 0.4883, 0.4865, 0.4847, 0.4829, 0.4811,\n",
      "        0.4793, 0.4775, 0.4757, 0.4739, 0.4721, 0.4703, 0.4685, 0.4667, 0.4649,\n",
      "        0.4631, 0.4613, 0.4595, 0.4577, 0.4559, 0.4541, 0.4523, 0.4505, 0.4487,\n",
      "        0.4469, 0.4451, 0.4433, 0.4415, 0.4397, 0.4379, 0.4361, 0.4343, 0.4325,\n",
      "        0.4307, 0.4289, 0.4271, 0.4253, 0.4235, 0.4217, 0.4199, 0.4181, 0.4163,\n",
      "        0.4145, 0.4127, 0.4109, 0.4091, 0.4073, 0.4055, 0.4038, 0.4020, 0.4002,\n",
      "        0.3984, 0.3966, 0.3948, 0.3930, 0.3912, 0.3894, 0.3876, 0.3858, 0.3840,\n",
      "        0.3822, 0.3804, 0.3786, 0.3768, 0.3750, 0.3732, 0.3714, 0.3696, 0.3678,\n",
      "        0.3660, 0.3642, 0.3624, 0.3606, 0.3588, 0.3570, 0.3552, 0.3534, 0.3516,\n",
      "        0.3498, 0.3480, 0.3462, 0.3444, 0.3426, 0.3408, 0.3390, 0.3372, 0.3354,\n",
      "        0.3336, 0.3318, 0.3300, 0.3282, 0.3264, 0.3246, 0.3228, 0.3210, 0.3192,\n",
      "        0.3174, 0.3156, 0.3139, 0.3121, 0.3103, 0.3085, 0.3067, 0.3049, 0.3031,\n",
      "        0.3013, 0.2995, 0.2977, 0.2959, 0.2941, 0.2923, 0.2905, 0.2887, 0.2869,\n",
      "        0.2851, 0.2833, 0.2815, 0.2797, 0.2779, 0.2761, 0.2743, 0.2725, 0.2707,\n",
      "        0.2689, 0.2671, 0.2653, 0.2635, 0.2617, 0.2599, 0.2581, 0.2563, 0.2545,\n",
      "        0.2527, 0.2509, 0.2491, 0.2473, 0.2455, 0.2437, 0.2419, 0.2401, 0.2383,\n",
      "        0.2365, 0.2347, 0.2329, 0.2311, 0.2293, 0.2275, 0.2257, 0.2240, 0.2222,\n",
      "        0.2204, 0.2186, 0.2168, 0.2150, 0.2132, 0.2114, 0.2096, 0.2078, 0.2060,\n",
      "        0.2042, 0.2024, 0.2006, 0.1988, 0.1970, 0.1952, 0.1934, 0.1916, 0.1898,\n",
      "        0.1880, 0.1862, 0.1844, 0.1826, 0.1808, 0.1790, 0.1772, 0.1754, 0.1736,\n",
      "        0.1718, 0.1700, 0.1682, 0.1664, 0.1646, 0.1628, 0.1610, 0.1592, 0.1574,\n",
      "        0.1556, 0.1538, 0.1520, 0.1502, 0.1484, 0.1466, 0.1448, 0.1430, 0.1412,\n",
      "        0.1394, 0.1376, 0.1358, 0.1341, 0.1323, 0.1305, 0.1287, 0.1269, 0.1251,\n",
      "        0.1233, 0.1215, 0.1197, 0.1179, 0.1161, 0.1143, 0.1125, 0.1107, 0.1089,\n",
      "        0.1071, 0.1053, 0.1035, 0.1017, 0.0999, 0.0981, 0.0963, 0.0945, 0.0927,\n",
      "        0.0909, 0.0891, 0.0873, 0.0855, 0.0837, 0.0819, 0.0801, 0.0783, 0.0765,\n",
      "        0.0747, 0.0729, 0.0711, 0.0693, 0.0675, 0.0657, 0.0639, 0.0621, 0.0603,\n",
      "        0.0585, 0.0567, 0.0549, 0.0531, 0.0513, 0.0495, 0.0477, 0.0459, 0.0442,\n",
      "        0.0424, 0.0406, 0.0388, 0.0370, 0.0352, 0.0334, 0.0316, 0.0298, 0.0280,\n",
      "        0.0262, 0.0244, 0.0226, 0.0208, 0.0190, 0.0172, 0.0154, 0.0136, 0.0118,\n",
      "        0.0100, 0.0082, 0.0064, 0.0046, 0.0028], device='cuda:0')\n",
      "range of bars tensor(0.0028, device='cuda:0') tensor(0.9000, device='cuda:0')\n",
      "range of sigmas, tensor(0.0443, device='cuda:0') tensor(1., device='cuda:0')\n",
      "Number parameters of the model: 696257\n",
      "Model strcuture: DDPM(\n",
      "  (t_embedding): SinousEmbedding()\n",
      "  (up): ModuleList(\n",
      "    (0): F_x_t(\n",
      "      (conv): Conv2d(1, 32, kernel_size=(3, 3), stride=(1, 1), padding=(1, 1))\n",
      "      (fc): Linear(in_features=32, out_features=32, bias=True)\n",
      "      (res): ResidualBlock(\n",
      "        (conv1): Conv2d(32, 32, kernel_size=(3, 3), stride=(1, 1), padding=(1, 1))\n",
      "        (t_net): Linear(in_features=32, out_features=32, bias=True)\n",
      "        (conv2): Conv2d(32, 32, kernel_size=(3, 3), stride=(1, 1), padding=(1, 1))\n",
      "      )\n",
      "    )\n",
      "    (1): F_x_t(\n",
      "      (conv): Conv2d(32, 64, kernel_size=(3, 3), stride=(1, 1), padding=(1, 1))\n",
      "      (fc): Linear(in_features=32, out_features=64, bias=True)\n",
      "      (res): ResidualBlock(\n",
      "        (conv1): Conv2d(64, 64, kernel_size=(3, 3), stride=(1, 1), padding=(1, 1))\n",
      "        (t_net): Linear(in_features=32, out_features=64, bias=True)\n",
      "        (conv2): Conv2d(64, 64, kernel_size=(3, 3), stride=(1, 1), padding=(1, 1))\n",
      "      )\n",
      "    )\n",
      "    (2): F_x_t(\n",
      "      (conv): Conv2d(64, 128, kernel_size=(3, 3), stride=(1, 1), padding=(1, 1))\n",
      "      (fc): Linear(in_features=32, out_features=128, bias=True)\n",
      "      (res): ResidualBlock(\n",
      "        (conv1): Conv2d(128, 128, kernel_size=(3, 3), stride=(1, 1), padding=(1, 1))\n",
      "        (t_net): Linear(in_features=32, out_features=128, bias=True)\n",
      "        (conv2): Conv2d(128, 128, kernel_size=(3, 3), stride=(1, 1), padding=(1, 1))\n",
      "      )\n",
      "    )\n",
      "  )\n",
      "  (middle): ModuleList(\n",
      "    (0): Identity()\n",
      "  )\n",
      "  (down): ModuleList(\n",
      "    (0): F_x_t(\n",
      "      (conv): Conv2d(128, 64, kernel_size=(3, 3), stride=(1, 1), padding=(1, 1))\n",
      "      (fc): Linear(in_features=32, out_features=64, bias=True)\n",
      "      (res): ResidualBlock(\n",
      "        (conv1): Conv2d(64, 64, kernel_size=(3, 3), stride=(1, 1), padding=(1, 1))\n",
      "        (t_net): Linear(in_features=32, out_features=64, bias=True)\n",
      "        (conv2): Conv2d(64, 64, kernel_size=(3, 3), stride=(1, 1), padding=(1, 1))\n",
      "      )\n",
      "    )\n",
      "    (1): F_x_t(\n",
      "      (conv): Conv2d(64, 32, kernel_size=(3, 3), stride=(1, 1), padding=(1, 1))\n",
      "      (fc): Linear(in_features=32, out_features=32, bias=True)\n",
      "      (res): ResidualBlock(\n",
      "        (conv1): Conv2d(32, 32, kernel_size=(3, 3), stride=(1, 1), padding=(1, 1))\n",
      "        (t_net): Linear(in_features=32, out_features=32, bias=True)\n",
      "        (conv2): Conv2d(32, 32, kernel_size=(3, 3), stride=(1, 1), padding=(1, 1))\n",
      "      )\n",
      "    )\n",
      "    (2): F_x_t(\n",
      "      (conv): Conv2d(32, 16, kernel_size=(3, 3), stride=(1, 1), padding=(1, 1))\n",
      "      (fc): Linear(in_features=32, out_features=16, bias=True)\n",
      "      (res): ResidualBlock(\n",
      "        (conv1): Conv2d(16, 16, kernel_size=(3, 3), stride=(1, 1), padding=(1, 1))\n",
      "        (t_net): Linear(in_features=32, out_features=16, bias=True)\n",
      "        (conv2): Conv2d(16, 16, kernel_size=(3, 3), stride=(1, 1), padding=(1, 1))\n",
      "      )\n",
      "    )\n",
      "  )\n",
      "  (end_mlp): Conv2d(16, 1, kernel_size=(1, 1), stride=(1, 1))\n",
      ")\n"
     ]
    },
    {
     "name": "stderr",
     "output_type": "stream",
     "text": [
      "  0%|                                                                                                                                     | 0/94 [00:00<?, ?it/s]"
     ]
    },
    {
     "name": "stdout",
     "output_type": "stream",
     "text": [
      "Saved visualize to /home/zhh24/samples/init_visualize.png\n"
     ]
    },
    {
     "name": "stderr",
     "output_type": "stream",
     "text": [
      "epoch 0, loss 0.2674: 100%|██████████████████████████████████████████████████████████████████████████████████████████████████████| 94/94 [00:29<00:00,  3.39it/s]\n",
      "epoch 0, MSE 0.1130, [Valid] 0.1130: 100%|███████████████████████████████████████████████████████████████████████████████████████| 24/24 [00:03<00:00,  7.42it/s]\n"
     ]
    },
    {
     "name": "stdout",
     "output_type": "stream",
     "text": [
      "Saved visualize to /home/zhh24/samples/diffuse_epoch_0.png\n"
     ]
    },
    {
     "name": "stderr",
     "output_type": "stream",
     "text": [
      "/nobackup/users/zhh24/anaconda3/envs/DYY/lib/python3.7/site-packages/torch/serialization.py:256: UserWarning: Couldn't retrieve source code for container of type DDPM. It won't be checked for correctness upon loading.\n",
      "  \"type \" + obj.__name__ + \". It won't be checked \"\n",
      "/nobackup/users/zhh24/anaconda3/envs/DYY/lib/python3.7/site-packages/torch/serialization.py:256: UserWarning: Couldn't retrieve source code for container of type SinousEmbedding. It won't be checked for correctness upon loading.\n",
      "  \"type \" + obj.__name__ + \". It won't be checked \"\n",
      "/nobackup/users/zhh24/anaconda3/envs/DYY/lib/python3.7/site-packages/torch/serialization.py:256: UserWarning: Couldn't retrieve source code for container of type F_x_t. It won't be checked for correctness upon loading.\n",
      "  \"type \" + obj.__name__ + \". It won't be checked \"\n",
      "/nobackup/users/zhh24/anaconda3/envs/DYY/lib/python3.7/site-packages/torch/serialization.py:256: UserWarning: Couldn't retrieve source code for container of type ResidualBlock. It won't be checked for correctness upon loading.\n",
      "  \"type \" + obj.__name__ + \". It won't be checked \"\n",
      "epoch 1, loss 0.0962: 100%|██████████████████████████████████████████████████████████████████████████████████████████████████████| 94/94 [00:28<00:00,  3.38it/s]\n",
      "epoch 1, MSE 0.0833, [Valid] 0.0833: 100%|███████████████████████████████████████████████████████████████████████████████████████| 24/24 [00:03<00:00,  7.44it/s]\n",
      "epoch 2, loss 0.0751: 100%|██████████████████████████████████████████████████████████████████████████████████████████████████████| 94/94 [00:29<00:00,  3.38it/s]\n",
      "epoch 2, MSE 0.0675, [Valid] 0.0675: 100%|███████████████████████████████████████████████████████████████████████████████████████| 24/24 [00:03<00:00,  7.40it/s]\n",
      "epoch 3, loss 0.0654: 100%|██████████████████████████████████████████████████████████████████████████████████████████████████████| 94/94 [00:28<00:00,  3.38it/s]\n",
      "epoch 3, MSE 0.0611, [Valid] 0.0611: 100%|███████████████████████████████████████████████████████████████████████████████████████| 24/24 [00:03<00:00,  7.41it/s]\n",
      "epoch 4, loss 0.0599: 100%|██████████████████████████████████████████████████████████████████████████████████████████████████████| 94/94 [00:28<00:00,  3.39it/s]\n",
      "epoch 4, MSE 0.0572, [Valid] 0.0572: 100%|███████████████████████████████████████████████████████████████████████████████████████| 24/24 [00:03<00:00,  7.40it/s]\n",
      "epoch 5, loss 0.0562: 100%|██████████████████████████████████████████████████████████████████████████████████████████████████████| 94/94 [00:28<00:00,  3.38it/s]\n",
      "epoch 5, MSE 0.0545, [Valid] 0.0545: 100%|███████████████████████████████████████████████████████████████████████████████████████| 24/24 [00:03<00:00,  7.42it/s]\n"
     ]
    },
    {
     "name": "stdout",
     "output_type": "stream",
     "text": [
      "Saved visualize to /home/zhh24/samples/diffuse_epoch_5.png\n"
     ]
    },
    {
     "name": "stderr",
     "output_type": "stream",
     "text": [
      "epoch 6, loss 0.0539: 100%|██████████████████████████████████████████████████████████████████████████████████████████████████████| 94/94 [00:28<00:00,  3.38it/s]\n",
      "epoch 6, MSE 0.0522, [Valid] 0.0522: 100%|███████████████████████████████████████████████████████████████████████████████████████| 24/24 [00:03<00:00,  7.38it/s]\n",
      "epoch 7, loss 0.0519: 100%|██████████████████████████████████████████████████████████████████████████████████████████████████████| 94/94 [00:28<00:00,  3.39it/s]\n",
      "epoch 7, MSE 0.0505, [Valid] 0.0505: 100%|███████████████████████████████████████████████████████████████████████████████████████| 24/24 [00:03<00:00,  7.41it/s]\n",
      "epoch 8, loss 0.0500: 100%|██████████████████████████████████████████████████████████████████████████████████████████████████████| 94/94 [00:29<00:00,  3.38it/s]\n",
      "epoch 8, MSE 0.0492, [Valid] 0.0492: 100%|███████████████████████████████████████████████████████████████████████████████████████| 24/24 [00:03<00:00,  7.39it/s]\n",
      "epoch 9, loss 0.0490: 100%|██████████████████████████████████████████████████████████████████████████████████████████████████████| 94/94 [00:28<00:00,  3.39it/s]\n",
      "epoch 9, MSE 0.0481, [Valid] 0.0481: 100%|███████████████████████████████████████████████████████████████████████████████████████| 24/24 [00:03<00:00,  7.42it/s]\n",
      "epoch 10, loss 0.0475: 100%|█████████████████████████████████████████████████████████████████████████████████████████████████████| 94/94 [00:29<00:00,  3.38it/s]\n",
      "epoch 10, MSE 0.0465, [Valid] 0.0465: 100%|██████████████████████████████████████████████████████████████████████████████████████| 24/24 [00:03<00:00,  7.37it/s]\n"
     ]
    },
    {
     "name": "stdout",
     "output_type": "stream",
     "text": [
      "Saved visualize to /home/zhh24/samples/diffuse_epoch_10.png\n"
     ]
    },
    {
     "name": "stderr",
     "output_type": "stream",
     "text": [
      "epoch 11, loss 0.0470: 100%|█████████████████████████████████████████████████████████████████████████████████████████████████████| 94/94 [00:28<00:00,  3.38it/s]\n",
      "epoch 11, MSE 0.0459, [Valid] 0.0459: 100%|██████████████████████████████████████████████████████████████████████████████████████| 24/24 [00:03<00:00,  7.43it/s]\n",
      "epoch 12, loss 0.0463: 100%|█████████████████████████████████████████████████████████████████████████████████████████████████████| 94/94 [00:28<00:00,  3.39it/s]\n",
      "epoch 12, MSE 0.0451, [Valid] 0.0451: 100%|██████████████████████████████████████████████████████████████████████████████████████| 24/24 [00:03<00:00,  7.40it/s]\n",
      "epoch 13, loss 0.0456: 100%|█████████████████████████████████████████████████████████████████████████████████████████████████████| 94/94 [00:28<00:00,  3.39it/s]\n",
      "epoch 13, MSE 0.0450, [Valid] 0.0450: 100%|██████████████████████████████████████████████████████████████████████████████████████| 24/24 [00:03<00:00,  7.43it/s]\n",
      "epoch 14, loss 0.0452: 100%|█████████████████████████████████████████████████████████████████████████████████████████████████████| 94/94 [00:29<00:00,  3.39it/s]\n",
      "epoch 14, MSE 0.0452, [Valid] 0.0452: 100%|██████████████████████████████████████████████████████████████████████████████████████| 24/24 [00:03<00:00,  7.41it/s]\n",
      "epoch 15, loss 0.0445: 100%|█████████████████████████████████████████████████████████████████████████████████████████████████████| 94/94 [00:28<00:00,  3.39it/s]\n",
      "epoch 15, MSE 0.0438, [Valid] 0.0438: 100%|██████████████████████████████████████████████████████████████████████████████████████| 24/24 [00:03<00:00,  7.42it/s]\n"
     ]
    },
    {
     "name": "stdout",
     "output_type": "stream",
     "text": [
      "Saved visualize to /home/zhh24/samples/diffuse_epoch_15.png\n"
     ]
    },
    {
     "name": "stderr",
     "output_type": "stream",
     "text": [
      "epoch 16, loss 0.0443: 100%|█████████████████████████████████████████████████████████████████████████████████████████████████████| 94/94 [00:28<00:00,  3.39it/s]\n",
      "epoch 16, MSE 0.0436, [Valid] 0.0436: 100%|██████████████████████████████████████████████████████████████████████████████████████| 24/24 [00:03<00:00,  7.38it/s]\n",
      "epoch 17, loss 0.0439: 100%|█████████████████████████████████████████████████████████████████████████████████████████████████████| 94/94 [00:29<00:00,  3.39it/s]\n",
      "epoch 17, MSE 0.0430, [Valid] 0.0430: 100%|██████████████████████████████████████████████████████████████████████████████████████| 24/24 [00:03<00:00,  7.43it/s]\n",
      "epoch 18, loss 0.0431: 100%|█████████████████████████████████████████████████████████████████████████████████████████████████████| 94/94 [00:28<00:00,  3.39it/s]\n",
      "epoch 18, MSE 0.0433, [Valid] 0.0433: 100%|██████████████████████████████████████████████████████████████████████████████████████| 24/24 [00:03<00:00,  7.39it/s]\n",
      "epoch 19, loss 0.0433: 100%|█████████████████████████████████████████████████████████████████████████████████████████████████████| 94/94 [00:28<00:00,  3.39it/s]\n",
      "epoch 19, MSE 0.0426, [Valid] 0.0426: 100%|██████████████████████████████████████████████████████████████████████████████████████| 24/24 [00:03<00:00,  7.41it/s]\n",
      "epoch 20, loss 0.0427: 100%|█████████████████████████████████████████████████████████████████████████████████████████████████████| 94/94 [00:28<00:00,  3.39it/s]\n",
      "epoch 20, MSE 0.0424, [Valid] 0.0424: 100%|██████████████████████████████████████████████████████████████████████████████████████| 24/24 [00:03<00:00,  7.41it/s]\n"
     ]
    },
    {
     "name": "stdout",
     "output_type": "stream",
     "text": [
      "Saved visualize to /home/zhh24/samples/diffuse_epoch_20.png\n"
     ]
    },
    {
     "name": "stderr",
     "output_type": "stream",
     "text": [
      "epoch 21, loss 0.0428: 100%|█████████████████████████████████████████████████████████████████████████████████████████████████████| 94/94 [00:28<00:00,  3.39it/s]\n",
      "epoch 21, MSE 0.0420, [Valid] 0.0420: 100%|██████████████████████████████████████████████████████████████████████████████████████| 24/24 [00:03<00:00,  7.40it/s]\n",
      "epoch 22, loss 0.0423: 100%|█████████████████████████████████████████████████████████████████████████████████████████████████████| 94/94 [00:28<00:00,  3.39it/s]\n",
      "epoch 22, MSE 0.0418, [Valid] 0.0418: 100%|██████████████████████████████████████████████████████████████████████████████████████| 24/24 [00:03<00:00,  7.41it/s]\n",
      "epoch 23, loss 0.0422: 100%|█████████████████████████████████████████████████████████████████████████████████████████████████████| 94/94 [00:29<00:00,  3.38it/s]\n",
      "epoch 23, MSE 0.0416, [Valid] 0.0416: 100%|██████████████████████████████████████████████████████████████████████████████████████| 24/24 [00:03<00:00,  7.40it/s]\n",
      "epoch 24, loss 0.0420: 100%|█████████████████████████████████████████████████████████████████████████████████████████████████████| 94/94 [00:29<00:00,  3.38it/s]\n",
      "epoch 24, MSE 0.0415, [Valid] 0.0415: 100%|██████████████████████████████████████████████████████████████████████████████████████| 24/24 [00:03<00:00,  7.38it/s]\n",
      "epoch 25, loss 0.0416: 100%|█████████████████████████████████████████████████████████████████████████████████████████████████████| 94/94 [00:29<00:00,  3.38it/s]\n",
      "epoch 25, MSE 0.0412, [Valid] 0.0412: 100%|██████████████████████████████████████████████████████████████████████████████████████| 24/24 [00:03<00:00,  7.44it/s]\n"
     ]
    },
    {
     "name": "stdout",
     "output_type": "stream",
     "text": [
      "Saved visualize to /home/zhh24/samples/diffuse_epoch_25.png\n"
     ]
    },
    {
     "name": "stderr",
     "output_type": "stream",
     "text": [
      "epoch 26, loss 0.0417: 100%|█████████████████████████████████████████████████████████████████████████████████████████████████████| 94/94 [00:29<00:00,  3.39it/s]\n",
      "epoch 26, MSE 0.0412, [Valid] 0.0412: 100%|██████████████████████████████████████████████████████████████████████████████████████| 24/24 [00:03<00:00,  7.40it/s]\n",
      "epoch 27, loss 0.0414: 100%|█████████████████████████████████████████████████████████████████████████████████████████████████████| 94/94 [00:28<00:00,  3.39it/s]\n",
      "epoch 27, MSE 0.0410, [Valid] 0.0410: 100%|██████████████████████████████████████████████████████████████████████████████████████| 24/24 [00:03<00:00,  7.42it/s]\n",
      "epoch 28, loss 0.0409: 100%|█████████████████████████████████████████████████████████████████████████████████████████████████████| 94/94 [00:28<00:00,  3.39it/s]\n",
      "epoch 28, MSE 0.0408, [Valid] 0.0408: 100%|██████████████████████████████████████████████████████████████████████████████████████| 24/24 [00:03<00:00,  7.38it/s]\n",
      "epoch 29, loss 0.0412: 100%|█████████████████████████████████████████████████████████████████████████████████████████████████████| 94/94 [00:29<00:00,  3.38it/s]\n",
      "epoch 29, MSE 0.0408, [Valid] 0.0408: 100%|██████████████████████████████████████████████████████████████████████████████████████| 24/24 [00:03<00:00,  7.43it/s]\n",
      "epoch 30, loss 0.0408: 100%|█████████████████████████████████████████████████████████████████████████████████████████████████████| 94/94 [00:28<00:00,  3.38it/s]\n",
      "epoch 30, MSE 0.0415, [Valid] 0.0415: 100%|██████████████████████████████████████████████████████████████████████████████████████| 24/24 [00:03<00:00,  7.42it/s]\n"
     ]
    },
    {
     "name": "stdout",
     "output_type": "stream",
     "text": [
      "Saved visualize to /home/zhh24/samples/diffuse_epoch_30.png\n"
     ]
    },
    {
     "name": "stderr",
     "output_type": "stream",
     "text": [
      "epoch 31, loss 0.0407: 100%|█████████████████████████████████████████████████████████████████████████████████████████████████████| 94/94 [00:28<00:00,  3.39it/s]\n",
      "epoch 31, MSE 0.0400, [Valid] 0.0400: 100%|██████████████████████████████████████████████████████████████████████████████████████| 24/24 [00:03<00:00,  7.44it/s]\n",
      "epoch 32, loss 0.0404: 100%|█████████████████████████████████████████████████████████████████████████████████████████████████████| 94/94 [00:28<00:00,  3.39it/s]\n",
      "epoch 32, MSE 0.0402, [Valid] 0.0402: 100%|██████████████████████████████████████████████████████████████████████████████████████| 24/24 [00:03<00:00,  7.39it/s]\n",
      "epoch 33, loss 0.0405: 100%|█████████████████████████████████████████████████████████████████████████████████████████████████████| 94/94 [00:28<00:00,  3.39it/s]\n",
      "epoch 33, MSE 0.0399, [Valid] 0.0399: 100%|██████████████████████████████████████████████████████████████████████████████████████| 24/24 [00:03<00:00,  7.42it/s]\n",
      "epoch 34, loss 0.0402: 100%|█████████████████████████████████████████████████████████████████████████████████████████████████████| 94/94 [00:28<00:00,  3.38it/s]\n",
      "epoch 34, MSE 0.0408, [Valid] 0.0408: 100%|██████████████████████████████████████████████████████████████████████████████████████| 24/24 [00:03<00:00,  7.42it/s]\n",
      "epoch 35, loss 0.0402: 100%|█████████████████████████████████████████████████████████████████████████████████████████████████████| 94/94 [00:28<00:00,  3.39it/s]\n",
      "epoch 35, MSE 0.0395, [Valid] 0.0395: 100%|██████████████████████████████████████████████████████████████████████████████████████| 24/24 [00:03<00:00,  7.34it/s]\n"
     ]
    },
    {
     "name": "stdout",
     "output_type": "stream",
     "text": [
      "Saved visualize to /home/zhh24/samples/diffuse_epoch_35.png\n"
     ]
    },
    {
     "name": "stderr",
     "output_type": "stream",
     "text": [
      "epoch 36, loss 0.0401: 100%|█████████████████████████████████████████████████████████████████████████████████████████████████████| 94/94 [00:28<00:00,  3.38it/s]\n",
      "epoch 36, MSE 0.0401, [Valid] 0.0401: 100%|██████████████████████████████████████████████████████████████████████████████████████| 24/24 [00:03<00:00,  7.41it/s]\n",
      "epoch 37, loss 0.0399: 100%|█████████████████████████████████████████████████████████████████████████████████████████████████████| 94/94 [00:28<00:00,  3.39it/s]\n",
      "epoch 37, MSE 0.0396, [Valid] 0.0396: 100%|██████████████████████████████████████████████████████████████████████████████████████| 24/24 [00:03<00:00,  7.41it/s]\n",
      "epoch 38, loss 0.0402: 100%|█████████████████████████████████████████████████████████████████████████████████████████████████████| 94/94 [00:29<00:00,  3.38it/s]\n",
      "epoch 38, MSE 0.0400, [Valid] 0.0400: 100%|██████████████████████████████████████████████████████████████████████████████████████| 24/24 [00:03<00:00,  7.31it/s]\n",
      "epoch 39, loss 0.0395: 100%|█████████████████████████████████████████████████████████████████████████████████████████████████████| 94/94 [00:28<00:00,  3.39it/s]\n",
      "epoch 39, MSE 0.0394, [Valid] 0.0394: 100%|██████████████████████████████████████████████████████████████████████████████████████| 24/24 [00:03<00:00,  7.41it/s]\n",
      "epoch 40, loss 0.0395: 100%|█████████████████████████████████████████████████████████████████████████████████████████████████████| 94/94 [00:28<00:00,  3.38it/s]\n",
      "epoch 40, MSE 0.0392, [Valid] 0.0392: 100%|██████████████████████████████████████████████████████████████████████████████████████| 24/24 [00:03<00:00,  7.42it/s]\n"
     ]
    },
    {
     "name": "stdout",
     "output_type": "stream",
     "text": [
      "Saved visualize to /home/zhh24/samples/diffuse_epoch_40.png\n"
     ]
    },
    {
     "name": "stderr",
     "output_type": "stream",
     "text": [
      "epoch 41, loss 0.0396: 100%|█████████████████████████████████████████████████████████████████████████████████████████████████████| 94/94 [00:29<00:00,  3.38it/s]\n",
      "epoch 41, MSE 0.0391, [Valid] 0.0391: 100%|██████████████████████████████████████████████████████████████████████████████████████| 24/24 [00:03<00:00,  7.43it/s]\n",
      "epoch 42, loss 0.0394: 100%|█████████████████████████████████████████████████████████████████████████████████████████████████████| 94/94 [00:29<00:00,  3.39it/s]\n",
      "epoch 42, MSE 0.0390, [Valid] 0.0390: 100%|██████████████████████████████████████████████████████████████████████████████████████| 24/24 [00:03<00:00,  7.40it/s]\n",
      "epoch 43, loss 0.0392: 100%|█████████████████████████████████████████████████████████████████████████████████████████████████████| 94/94 [00:28<00:00,  3.39it/s]\n",
      "epoch 43, MSE 0.0395, [Valid] 0.0395: 100%|██████████████████████████████████████████████████████████████████████████████████████| 24/24 [00:03<00:00,  7.42it/s]\n",
      "epoch 44, loss 0.0394: 100%|█████████████████████████████████████████████████████████████████████████████████████████████████████| 94/94 [00:28<00:00,  3.39it/s]\n",
      "epoch 44, MSE 0.0385, [Valid] 0.0385: 100%|██████████████████████████████████████████████████████████████████████████████████████| 24/24 [00:03<00:00,  7.42it/s]\n",
      "epoch 45, loss 0.0388: 100%|█████████████████████████████████████████████████████████████████████████████████████████████████████| 94/94 [00:29<00:00,  3.38it/s]\n",
      "epoch 45, MSE 0.0389, [Valid] 0.0389: 100%|██████████████████████████████████████████████████████████████████████████████████████| 24/24 [00:03<00:00,  7.42it/s]\n"
     ]
    },
    {
     "name": "stdout",
     "output_type": "stream",
     "text": [
      "Saved visualize to /home/zhh24/samples/diffuse_epoch_45.png\n"
     ]
    },
    {
     "name": "stderr",
     "output_type": "stream",
     "text": [
      "epoch 46, loss 0.0390: 100%|█████████████████████████████████████████████████████████████████████████████████████████████████████| 94/94 [00:28<00:00,  3.38it/s]\n",
      "epoch 46, MSE 0.0388, [Valid] 0.0388: 100%|██████████████████████████████████████████████████████████████████████████████████████| 24/24 [00:03<00:00,  7.40it/s]\n",
      "epoch 47, loss 0.0388: 100%|█████████████████████████████████████████████████████████████████████████████████████████████████████| 94/94 [00:29<00:00,  3.38it/s]\n",
      "epoch 47, MSE 0.0385, [Valid] 0.0385: 100%|██████████████████████████████████████████████████████████████████████████████████████| 24/24 [00:03<00:00,  7.45it/s]\n",
      "epoch 48, loss 0.0387: 100%|█████████████████████████████████████████████████████████████████████████████████████████████████████| 94/94 [00:29<00:00,  3.35it/s]\n",
      "epoch 48, MSE 0.0389, [Valid] 0.0389: 100%|██████████████████████████████████████████████████████████████████████████████████████| 24/24 [00:03<00:00,  7.39it/s]\n",
      "epoch 49, loss 0.0388: 100%|█████████████████████████████████████████████████████████████████████████████████████████████████████| 94/94 [00:28<00:00,  3.38it/s]\n",
      "epoch 49, MSE 0.0386, [Valid] 0.0386: 100%|██████████████████████████████████████████████████████████████████████████████████████| 24/24 [00:03<00:00,  7.41it/s]\n",
      "epoch 50, loss 0.0387: 100%|█████████████████████████████████████████████████████████████████████████████████████████████████████| 94/94 [00:28<00:00,  3.39it/s]\n",
      "epoch 50, MSE 0.0382, [Valid] 0.0382: 100%|██████████████████████████████████████████████████████████████████████████████████████| 24/24 [00:03<00:00,  7.40it/s]\n"
     ]
    },
    {
     "name": "stdout",
     "output_type": "stream",
     "text": [
      "Saved visualize to /home/zhh24/samples/diffuse_epoch_50.png\n"
     ]
    },
    {
     "name": "stderr",
     "output_type": "stream",
     "text": [
      "epoch 51, loss 0.0385: 100%|█████████████████████████████████████████████████████████████████████████████████████████████████████| 94/94 [00:28<00:00,  3.38it/s]\n",
      "epoch 51, MSE 0.0382, [Valid] 0.0382: 100%|██████████████████████████████████████████████████████████████████████████████████████| 24/24 [00:03<00:00,  7.43it/s]\n",
      "epoch 52, loss 0.0384: 100%|█████████████████████████████████████████████████████████████████████████████████████████████████████| 94/94 [00:29<00:00,  3.38it/s]\n",
      "epoch 52, MSE 0.0383, [Valid] 0.0383: 100%|██████████████████████████████████████████████████████████████████████████████████████| 24/24 [00:03<00:00,  7.38it/s]\n",
      "epoch 53, loss 0.0382: 100%|█████████████████████████████████████████████████████████████████████████████████████████████████████| 94/94 [00:28<00:00,  3.39it/s]\n",
      "epoch 53, MSE 0.0384, [Valid] 0.0384: 100%|██████████████████████████████████████████████████████████████████████████████████████| 24/24 [00:03<00:00,  7.40it/s]\n",
      "epoch 54, loss 0.0383: 100%|█████████████████████████████████████████████████████████████████████████████████████████████████████| 94/94 [00:28<00:00,  3.38it/s]\n",
      "epoch 54, MSE 0.0384, [Valid] 0.0384: 100%|██████████████████████████████████████████████████████████████████████████████████████| 24/24 [00:03<00:00,  7.39it/s]\n",
      "epoch 55, loss 0.0384: 100%|█████████████████████████████████████████████████████████████████████████████████████████████████████| 94/94 [00:29<00:00,  3.39it/s]\n",
      "epoch 55, MSE 0.0381, [Valid] 0.0381: 100%|██████████████████████████████████████████████████████████████████████████████████████| 24/24 [00:03<00:00,  7.43it/s]\n"
     ]
    },
    {
     "name": "stdout",
     "output_type": "stream",
     "text": [
      "Saved visualize to /home/zhh24/samples/diffuse_epoch_55.png\n"
     ]
    },
    {
     "name": "stderr",
     "output_type": "stream",
     "text": [
      "epoch 56, loss 0.0381: 100%|█████████████████████████████████████████████████████████████████████████████████████████████████████| 94/94 [00:28<00:00,  3.39it/s]\n",
      "epoch 56, MSE 0.0379, [Valid] 0.0379: 100%|██████████████████████████████████████████████████████████████████████████████████████| 24/24 [00:03<00:00,  7.41it/s]\n",
      "epoch 57, loss 0.0383: 100%|█████████████████████████████████████████████████████████████████████████████████████████████████████| 94/94 [00:29<00:00,  3.38it/s]\n",
      "epoch 57, MSE 0.0399, [Valid] 0.0399: 100%|██████████████████████████████████████████████████████████████████████████████████████| 24/24 [00:03<00:00,  7.41it/s]\n",
      "epoch 58, loss 0.0382: 100%|█████████████████████████████████████████████████████████████████████████████████████████████████████| 94/94 [00:28<00:00,  3.39it/s]\n",
      "epoch 58, MSE 0.0378, [Valid] 0.0378: 100%|██████████████████████████████████████████████████████████████████████████████████████| 24/24 [00:03<00:00,  7.31it/s]\n",
      "epoch 59, loss 0.0379: 100%|█████████████████████████████████████████████████████████████████████████████████████████████████████| 94/94 [00:28<00:00,  3.39it/s]\n",
      "epoch 59, MSE 0.0377, [Valid] 0.0377: 100%|██████████████████████████████████████████████████████████████████████████████████████| 24/24 [00:03<00:00,  7.42it/s]\n",
      "epoch 60, loss 0.0381: 100%|█████████████████████████████████████████████████████████████████████████████████████████████████████| 94/94 [00:28<00:00,  3.39it/s]\n",
      "epoch 60, MSE 0.0377, [Valid] 0.0377: 100%|██████████████████████████████████████████████████████████████████████████████████████| 24/24 [00:03<00:00,  7.40it/s]\n"
     ]
    },
    {
     "name": "stdout",
     "output_type": "stream",
     "text": [
      "Saved visualize to /home/zhh24/samples/diffuse_epoch_60.png\n"
     ]
    },
    {
     "name": "stderr",
     "output_type": "stream",
     "text": [
      "epoch 61, loss 0.0378: 100%|█████████████████████████████████████████████████████████████████████████████████████████████████████| 94/94 [00:28<00:00,  3.39it/s]\n",
      "epoch 61, MSE 0.0374, [Valid] 0.0374: 100%|██████████████████████████████████████████████████████████████████████████████████████| 24/24 [00:03<00:00,  7.42it/s]\n",
      "epoch 62, loss 0.0380: 100%|█████████████████████████████████████████████████████████████████████████████████████████████████████| 94/94 [00:29<00:00,  3.39it/s]\n",
      "epoch 62, MSE 0.0374, [Valid] 0.0374: 100%|██████████████████████████████████████████████████████████████████████████████████████| 24/24 [00:03<00:00,  7.40it/s]\n",
      "epoch 63, loss 0.0377: 100%|█████████████████████████████████████████████████████████████████████████████████████████████████████| 94/94 [00:28<00:00,  3.39it/s]\n",
      "epoch 63, MSE 0.0376, [Valid] 0.0376: 100%|██████████████████████████████████████████████████████████████████████████████████████| 24/24 [00:03<00:00,  7.41it/s]\n",
      "epoch 64, loss 0.0377: 100%|█████████████████████████████████████████████████████████████████████████████████████████████████████| 94/94 [00:28<00:00,  3.38it/s]\n",
      "epoch 64, MSE 0.0381, [Valid] 0.0381: 100%|██████████████████████████████████████████████████████████████████████████████████████| 24/24 [00:03<00:00,  7.40it/s]\n",
      "epoch 65, loss 0.0377: 100%|█████████████████████████████████████████████████████████████████████████████████████████████████████| 94/94 [00:29<00:00,  3.38it/s]\n",
      "epoch 65, MSE 0.0373, [Valid] 0.0373: 100%|██████████████████████████████████████████████████████████████████████████████████████| 24/24 [00:03<00:00,  7.31it/s]\n"
     ]
    },
    {
     "name": "stdout",
     "output_type": "stream",
     "text": [
      "Saved visualize to /home/zhh24/samples/diffuse_epoch_65.png\n"
     ]
    },
    {
     "name": "stderr",
     "output_type": "stream",
     "text": [
      "epoch 66, loss 0.0375: 100%|█████████████████████████████████████████████████████████████████████████████████████████████████████| 94/94 [00:28<00:00,  3.39it/s]\n",
      "epoch 66, MSE 0.0372, [Valid] 0.0372: 100%|██████████████████████████████████████████████████████████████████████████████████████| 24/24 [00:03<00:00,  7.41it/s]\n",
      "epoch 67, loss 0.0373: 100%|█████████████████████████████████████████████████████████████████████████████████████████████████████| 94/94 [00:28<00:00,  3.39it/s]\n",
      "epoch 67, MSE 0.0373, [Valid] 0.0373: 100%|██████████████████████████████████████████████████████████████████████████████████████| 24/24 [00:03<00:00,  7.41it/s]\n",
      "epoch 68, loss 0.0378: 100%|█████████████████████████████████████████████████████████████████████████████████████████████████████| 94/94 [00:28<00:00,  3.39it/s]\n",
      "epoch 68, MSE 0.0371, [Valid] 0.0371: 100%|██████████████████████████████████████████████████████████████████████████████████████| 24/24 [00:03<00:00,  7.40it/s]\n",
      "epoch 69, loss 0.0374: 100%|█████████████████████████████████████████████████████████████████████████████████████████████████████| 94/94 [00:29<00:00,  3.39it/s]\n",
      "epoch 69, MSE 0.0373, [Valid] 0.0373: 100%|██████████████████████████████████████████████████████████████████████████████████████| 24/24 [00:03<00:00,  7.40it/s]\n",
      "epoch 70, loss 0.0375: 100%|█████████████████████████████████████████████████████████████████████████████████████████████████████| 94/94 [00:28<00:00,  3.38it/s]\n",
      "epoch 70, MSE 0.0372, [Valid] 0.0372: 100%|██████████████████████████████████████████████████████████████████████████████████████| 24/24 [00:03<00:00,  7.41it/s]\n"
     ]
    },
    {
     "name": "stdout",
     "output_type": "stream",
     "text": [
      "Saved visualize to /home/zhh24/samples/diffuse_epoch_70.png\n"
     ]
    },
    {
     "name": "stderr",
     "output_type": "stream",
     "text": [
      "epoch 71, loss 0.0374: 100%|█████████████████████████████████████████████████████████████████████████████████████████████████████| 94/94 [00:28<00:00,  3.39it/s]\n",
      "epoch 71, MSE 0.0371, [Valid] 0.0371: 100%|██████████████████████████████████████████████████████████████████████████████████████| 24/24 [00:03<00:00,  7.42it/s]\n",
      "epoch 72, loss 0.0371: 100%|█████████████████████████████████████████████████████████████████████████████████████████████████████| 94/94 [00:28<00:00,  3.37it/s]\n",
      "epoch 72, MSE 0.0366, [Valid] 0.0366: 100%|██████████████████████████████████████████████████████████████████████████████████████| 24/24 [00:03<00:00,  7.41it/s]\n",
      "epoch 73, loss 0.0371: 100%|█████████████████████████████████████████████████████████████████████████████████████████████████████| 94/94 [00:28<00:00,  3.39it/s]\n",
      "epoch 73, MSE 0.0367, [Valid] 0.0367: 100%|██████████████████████████████████████████████████████████████████████████████████████| 24/24 [00:03<00:00,  7.41it/s]\n",
      "epoch 74, loss 0.0373: 100%|█████████████████████████████████████████████████████████████████████████████████████████████████████| 94/94 [00:28<00:00,  3.38it/s]\n",
      "epoch 74, MSE 0.0371, [Valid] 0.0371: 100%|██████████████████████████████████████████████████████████████████████████████████████| 24/24 [00:03<00:00,  7.41it/s]\n",
      "epoch 75, loss 0.0372: 100%|█████████████████████████████████████████████████████████████████████████████████████████████████████| 94/94 [00:28<00:00,  3.39it/s]\n",
      "epoch 75, MSE 0.0370, [Valid] 0.0370: 100%|██████████████████████████████████████████████████████████████████████████████████████| 24/24 [00:03<00:00,  7.43it/s]\n"
     ]
    },
    {
     "name": "stdout",
     "output_type": "stream",
     "text": [
      "Saved visualize to /home/zhh24/samples/diffuse_epoch_75.png\n"
     ]
    },
    {
     "name": "stderr",
     "output_type": "stream",
     "text": [
      "epoch 76, loss 0.0371: 100%|█████████████████████████████████████████████████████████████████████████████████████████████████████| 94/94 [00:29<00:00,  3.39it/s]\n",
      "epoch 76, MSE 0.0368, [Valid] 0.0368: 100%|██████████████████████████████████████████████████████████████████████████████████████| 24/24 [00:03<00:00,  7.39it/s]\n",
      "epoch 77, loss 0.0369: 100%|█████████████████████████████████████████████████████████████████████████████████████████████████████| 94/94 [00:29<00:00,  3.38it/s]\n",
      "epoch 77, MSE 0.0376, [Valid] 0.0376: 100%|██████████████████████████████████████████████████████████████████████████████████████| 24/24 [00:03<00:00,  7.40it/s]\n",
      "epoch 78, loss 0.0372: 100%|█████████████████████████████████████████████████████████████████████████████████████████████████████| 94/94 [00:28<00:00,  3.38it/s]\n",
      "epoch 78, MSE 0.0367, [Valid] 0.0367: 100%|██████████████████████████████████████████████████████████████████████████████████████| 24/24 [00:03<00:00,  7.41it/s]\n",
      "epoch 79, loss 0.0368: 100%|█████████████████████████████████████████████████████████████████████████████████████████████████████| 94/94 [00:29<00:00,  3.39it/s]\n",
      "epoch 79, MSE 0.0369, [Valid] 0.0369: 100%|██████████████████████████████████████████████████████████████████████████████████████| 24/24 [00:03<00:00,  7.44it/s]\n",
      "epoch 80, loss 0.0367: 100%|█████████████████████████████████████████████████████████████████████████████████████████████████████| 94/94 [00:29<00:00,  3.39it/s]\n",
      "epoch 80, MSE 0.0366, [Valid] 0.0366: 100%|██████████████████████████████████████████████████████████████████████████████████████| 24/24 [00:03<00:00,  7.40it/s]\n"
     ]
    },
    {
     "name": "stdout",
     "output_type": "stream",
     "text": [
      "Saved visualize to /home/zhh24/samples/diffuse_epoch_80.png\n"
     ]
    },
    {
     "name": "stderr",
     "output_type": "stream",
     "text": [
      "epoch 81, loss 0.0369: 100%|█████████████████████████████████████████████████████████████████████████████████████████████████████| 94/94 [00:28<00:00,  3.38it/s]\n",
      "epoch 81, MSE 0.0386, [Valid] 0.0386: 100%|██████████████████████████████████████████████████████████████████████████████████████| 24/24 [00:03<00:00,  7.41it/s]\n",
      "epoch 82, loss 0.0367: 100%|█████████████████████████████████████████████████████████████████████████████████████████████████████| 94/94 [00:28<00:00,  3.38it/s]\n",
      "epoch 82, MSE 0.0366, [Valid] 0.0366: 100%|██████████████████████████████████████████████████████████████████████████████████████| 24/24 [00:03<00:00,  7.40it/s]\n",
      "epoch 83, loss 0.0368: 100%|█████████████████████████████████████████████████████████████████████████████████████████████████████| 94/94 [00:29<00:00,  3.38it/s]\n",
      "epoch 83, MSE 0.0370, [Valid] 0.0370: 100%|██████████████████████████████████████████████████████████████████████████████████████| 24/24 [00:03<00:00,  7.40it/s]\n",
      "epoch 84, loss 0.0365: 100%|█████████████████████████████████████████████████████████████████████████████████████████████████████| 94/94 [00:28<00:00,  3.39it/s]\n",
      "epoch 84, MSE 0.0363, [Valid] 0.0363: 100%|██████████████████████████████████████████████████████████████████████████████████████| 24/24 [00:03<00:00,  7.39it/s]\n",
      "epoch 85, loss 0.0367: 100%|█████████████████████████████████████████████████████████████████████████████████████████████████████| 94/94 [00:29<00:00,  3.38it/s]\n",
      "epoch 85, MSE 0.0363, [Valid] 0.0363: 100%|██████████████████████████████████████████████████████████████████████████████████████| 24/24 [00:03<00:00,  7.41it/s]\n"
     ]
    },
    {
     "name": "stdout",
     "output_type": "stream",
     "text": [
      "Saved visualize to /home/zhh24/samples/diffuse_epoch_85.png\n"
     ]
    },
    {
     "name": "stderr",
     "output_type": "stream",
     "text": [
      "epoch 86, loss 0.0366: 100%|█████████████████████████████████████████████████████████████████████████████████████████████████████| 94/94 [00:28<00:00,  3.39it/s]\n",
      "epoch 86, MSE 0.0365, [Valid] 0.0365: 100%|██████████████████████████████████████████████████████████████████████████████████████| 24/24 [00:03<00:00,  7.40it/s]\n",
      "epoch 87, loss 0.0366: 100%|█████████████████████████████████████████████████████████████████████████████████████████████████████| 94/94 [00:29<00:00,  3.39it/s]\n",
      "epoch 87, MSE 0.0360, [Valid] 0.0360: 100%|██████████████████████████████████████████████████████████████████████████████████████| 24/24 [00:03<00:00,  7.42it/s]\n",
      "epoch 88, loss 0.0366: 100%|█████████████████████████████████████████████████████████████████████████████████████████████████████| 94/94 [00:28<00:00,  3.39it/s]\n",
      "epoch 88, MSE 0.0363, [Valid] 0.0363: 100%|██████████████████████████████████████████████████████████████████████████████████████| 24/24 [00:03<00:00,  7.37it/s]\n",
      "epoch 89, loss 0.0362: 100%|█████████████████████████████████████████████████████████████████████████████████████████████████████| 94/94 [00:28<00:00,  3.38it/s]\n",
      "epoch 89, MSE 0.0365, [Valid] 0.0365: 100%|██████████████████████████████████████████████████████████████████████████████████████| 24/24 [00:03<00:00,  7.41it/s]\n",
      "epoch 90, loss 0.0365: 100%|█████████████████████████████████████████████████████████████████████████████████████████████████████| 94/94 [00:28<00:00,  3.39it/s]\n",
      "epoch 90, MSE 0.0368, [Valid] 0.0368: 100%|██████████████████████████████████████████████████████████████████████████████████████| 24/24 [00:03<00:00,  7.40it/s]\n"
     ]
    },
    {
     "name": "stdout",
     "output_type": "stream",
     "text": [
      "Saved visualize to /home/zhh24/samples/diffuse_epoch_90.png\n"
     ]
    },
    {
     "name": "stderr",
     "output_type": "stream",
     "text": [
      "epoch 91, loss 0.0367: 100%|█████████████████████████████████████████████████████████████████████████████████████████████████████| 94/94 [00:29<00:00,  3.38it/s]\n",
      "epoch 91, MSE 0.0359, [Valid] 0.0359: 100%|██████████████████████████████████████████████████████████████████████████████████████| 24/24 [00:03<00:00,  7.43it/s]\n",
      "epoch 92, loss 0.0362: 100%|█████████████████████████████████████████████████████████████████████████████████████████████████████| 94/94 [00:28<00:00,  3.38it/s]\n",
      "epoch 92, MSE 0.0360, [Valid] 0.0360: 100%|██████████████████████████████████████████████████████████████████████████████████████| 24/24 [00:03<00:00,  7.38it/s]\n",
      "epoch 93, loss 0.0363: 100%|█████████████████████████████████████████████████████████████████████████████████████████████████████| 94/94 [00:28<00:00,  3.38it/s]\n",
      "epoch 93, MSE 0.0361, [Valid] 0.0361: 100%|██████████████████████████████████████████████████████████████████████████████████████| 24/24 [00:03<00:00,  7.42it/s]\n",
      "epoch 94, loss 0.0363: 100%|█████████████████████████████████████████████████████████████████████████████████████████████████████| 94/94 [00:28<00:00,  3.39it/s]\n",
      "epoch 94, MSE 0.0360, [Valid] 0.0360: 100%|██████████████████████████████████████████████████████████████████████████████████████| 24/24 [00:03<00:00,  7.42it/s]\n",
      "epoch 95, loss 0.0363: 100%|█████████████████████████████████████████████████████████████████████████████████████████████████████| 94/94 [00:29<00:00,  3.39it/s]\n",
      "epoch 95, MSE 0.0357, [Valid] 0.0357: 100%|██████████████████████████████████████████████████████████████████████████████████████| 24/24 [00:03<00:00,  7.42it/s]\n"
     ]
    },
    {
     "name": "stdout",
     "output_type": "stream",
     "text": [
      "Saved visualize to /home/zhh24/samples/diffuse_epoch_95.png\n"
     ]
    },
    {
     "name": "stderr",
     "output_type": "stream",
     "text": [
      "epoch 96, loss 0.0361: 100%|█████████████████████████████████████████████████████████████████████████████████████████████████████| 94/94 [00:28<00:00,  3.39it/s]\n",
      "epoch 96, MSE 0.0359, [Valid] 0.0359: 100%|██████████████████████████████████████████████████████████████████████████████████████| 24/24 [00:03<00:00,  7.39it/s]\n",
      "epoch 97, loss 0.0362: 100%|█████████████████████████████████████████████████████████████████████████████████████████████████████| 94/94 [00:29<00:00,  3.39it/s]\n",
      "epoch 97, MSE 0.0360, [Valid] 0.0360: 100%|██████████████████████████████████████████████████████████████████████████████████████| 24/24 [00:03<00:00,  7.40it/s]\n",
      "epoch 98, loss 0.0362: 100%|█████████████████████████████████████████████████████████████████████████████████████████████████████| 94/94 [00:29<00:00,  3.34it/s]\n",
      "epoch 98, MSE 0.0361, [Valid] 0.0361: 100%|██████████████████████████████████████████████████████████████████████████████████████| 24/24 [00:03<00:00,  7.37it/s]\n",
      "epoch 99, loss 0.0361: 100%|█████████████████████████████████████████████████████████████████████████████████████████████████████| 94/94 [00:29<00:00,  3.38it/s]\n",
      "epoch 99, MSE 0.0359, [Valid] 0.0359: 100%|██████████████████████████████████████████████████████████████████████████████████████| 24/24 [00:03<00:00,  7.42it/s]\n",
      "epoch 100, loss 0.0360: 100%|████████████████████████████████████████████████████████████████████████████████████████████████████| 94/94 [00:28<00:00,  3.39it/s]\n",
      "epoch 100, MSE 0.0364, [Valid] 0.0364: 100%|█████████████████████████████████████████████████████████████████████████████████████| 24/24 [00:03<00:00,  7.41it/s]\n"
     ]
    },
    {
     "name": "stdout",
     "output_type": "stream",
     "text": [
      "Saved visualize to /home/zhh24/samples/diffuse_epoch_100.png\n"
     ]
    },
    {
     "name": "stderr",
     "output_type": "stream",
     "text": [
      "epoch 101, loss 0.0360: 100%|████████████████████████████████████████████████████████████████████████████████████████████████████| 94/94 [00:28<00:00,  3.38it/s]\n",
      "epoch 101, MSE 0.0362, [Valid] 0.0362: 100%|█████████████████████████████████████████████████████████████████████████████████████| 24/24 [00:03<00:00,  7.40it/s]\n",
      "epoch 102, loss 0.0361: 100%|████████████████████████████████████████████████████████████████████████████████████████████████████| 94/94 [00:29<00:00,  3.38it/s]\n",
      "epoch 102, MSE 0.0364, [Valid] 0.0364: 100%|█████████████████████████████████████████████████████████████████████████████████████| 24/24 [00:03<00:00,  7.38it/s]\n",
      "epoch 103, loss 0.0358: 100%|████████████████████████████████████████████████████████████████████████████████████████████████████| 94/94 [00:29<00:00,  3.38it/s]\n",
      "epoch 103, MSE 0.0358, [Valid] 0.0358: 100%|█████████████████████████████████████████████████████████████████████████████████████| 24/24 [00:03<00:00,  7.40it/s]\n",
      "epoch 104, loss 0.0359: 100%|████████████████████████████████████████████████████████████████████████████████████████████████████| 94/94 [00:28<00:00,  3.39it/s]\n",
      "epoch 104, MSE 0.0363, [Valid] 0.0363: 100%|█████████████████████████████████████████████████████████████████████████████████████| 24/24 [00:03<00:00,  7.39it/s]\n",
      "epoch 105, loss 0.0359: 100%|████████████████████████████████████████████████████████████████████████████████████████████████████| 94/94 [00:28<00:00,  3.39it/s]\n",
      "epoch 105, MSE 0.0358, [Valid] 0.0358: 100%|█████████████████████████████████████████████████████████████████████████████████████| 24/24 [00:03<00:00,  7.40it/s]\n"
     ]
    },
    {
     "name": "stdout",
     "output_type": "stream",
     "text": [
      "Saved visualize to /home/zhh24/samples/diffuse_epoch_105.png\n"
     ]
    },
    {
     "name": "stderr",
     "output_type": "stream",
     "text": [
      "epoch 106, loss 0.0359: 100%|████████████████████████████████████████████████████████████████████████████████████████████████████| 94/94 [00:29<00:00,  3.38it/s]\n",
      "epoch 106, MSE 0.0360, [Valid] 0.0360: 100%|█████████████████████████████████████████████████████████████████████████████████████| 24/24 [00:03<00:00,  7.40it/s]\n",
      "epoch 107, loss 0.0359: 100%|████████████████████████████████████████████████████████████████████████████████████████████████████| 94/94 [00:28<00:00,  3.39it/s]\n",
      "epoch 107, MSE 0.0367, [Valid] 0.0367: 100%|█████████████████████████████████████████████████████████████████████████████████████| 24/24 [00:03<00:00,  7.41it/s]\n",
      "epoch 108, loss 0.0359: 100%|████████████████████████████████████████████████████████████████████████████████████████████████████| 94/94 [00:28<00:00,  3.39it/s]\n",
      "epoch 108, MSE 0.0356, [Valid] 0.0356: 100%|█████████████████████████████████████████████████████████████████████████████████████| 24/24 [00:03<00:00,  7.40it/s]\n",
      "epoch 109, loss 0.0357: 100%|████████████████████████████████████████████████████████████████████████████████████████████████████| 94/94 [00:28<00:00,  3.39it/s]\n",
      "epoch 109, MSE 0.0357, [Valid] 0.0357: 100%|█████████████████████████████████████████████████████████████████████████████████████| 24/24 [00:03<00:00,  7.44it/s]\n",
      "epoch 110, loss 0.0357: 100%|████████████████████████████████████████████████████████████████████████████████████████████████████| 94/94 [00:29<00:00,  3.39it/s]\n",
      "epoch 110, MSE 0.0354, [Valid] 0.0354: 100%|█████████████████████████████████████████████████████████████████████████████████████| 24/24 [00:03<00:00,  7.39it/s]\n"
     ]
    },
    {
     "name": "stdout",
     "output_type": "stream",
     "text": [
      "Saved visualize to /home/zhh24/samples/diffuse_epoch_110.png\n"
     ]
    },
    {
     "name": "stderr",
     "output_type": "stream",
     "text": [
      "epoch 111, loss 0.0357: 100%|████████████████████████████████████████████████████████████████████████████████████████████████████| 94/94 [00:28<00:00,  3.39it/s]\n",
      "epoch 111, MSE 0.0358, [Valid] 0.0358: 100%|█████████████████████████████████████████████████████████████████████████████████████| 24/24 [00:03<00:00,  7.41it/s]\n",
      "epoch 112, loss 0.0356: 100%|████████████████████████████████████████████████████████████████████████████████████████████████████| 94/94 [00:28<00:00,  3.39it/s]\n",
      "epoch 112, MSE 0.0366, [Valid] 0.0366: 100%|█████████████████████████████████████████████████████████████████████████████████████| 24/24 [00:03<00:00,  7.38it/s]\n",
      "epoch 113, loss 0.0356: 100%|████████████████████████████████████████████████████████████████████████████████████████████████████| 94/94 [00:28<00:00,  3.39it/s]\n",
      "epoch 113, MSE 0.0354, [Valid] 0.0354: 100%|█████████████████████████████████████████████████████████████████████████████████████| 24/24 [00:03<00:00,  7.42it/s]\n",
      "epoch 114, loss 0.0359: 100%|████████████████████████████████████████████████████████████████████████████████████████████████████| 94/94 [00:29<00:00,  3.38it/s]\n",
      "epoch 114, MSE 0.0364, [Valid] 0.0364: 100%|█████████████████████████████████████████████████████████████████████████████████████| 24/24 [00:03<00:00,  7.39it/s]\n",
      "epoch 115, loss 0.0356: 100%|████████████████████████████████████████████████████████████████████████████████████████████████████| 94/94 [00:29<00:00,  3.38it/s]\n",
      "epoch 115, MSE 0.0355, [Valid] 0.0355: 100%|█████████████████████████████████████████████████████████████████████████████████████| 24/24 [00:03<00:00,  7.41it/s]\n"
     ]
    },
    {
     "name": "stdout",
     "output_type": "stream",
     "text": [
      "Saved visualize to /home/zhh24/samples/diffuse_epoch_115.png\n"
     ]
    },
    {
     "name": "stderr",
     "output_type": "stream",
     "text": [
      "epoch 116, loss 0.0354: 100%|████████████████████████████████████████████████████████████████████████████████████████████████████| 94/94 [00:28<00:00,  3.39it/s]\n",
      "epoch 116, MSE 0.0355, [Valid] 0.0355: 100%|█████████████████████████████████████████████████████████████████████████████████████| 24/24 [00:03<00:00,  7.39it/s]\n",
      "epoch 117, loss 0.0357: 100%|████████████████████████████████████████████████████████████████████████████████████████████████████| 94/94 [00:29<00:00,  3.39it/s]\n",
      "epoch 117, MSE 0.0353, [Valid] 0.0353: 100%|█████████████████████████████████████████████████████████████████████████████████████| 24/24 [00:03<00:00,  7.41it/s]\n",
      "epoch 118, loss 0.0355: 100%|████████████████████████████████████████████████████████████████████████████████████████████████████| 94/94 [00:29<00:00,  3.38it/s]\n",
      "epoch 118, MSE 0.0357, [Valid] 0.0357: 100%|█████████████████████████████████████████████████████████████████████████████████████| 24/24 [00:03<00:00,  7.40it/s]\n",
      "epoch 119, loss 0.0355: 100%|████████████████████████████████████████████████████████████████████████████████████████████████████| 94/94 [00:29<00:00,  3.38it/s]\n",
      "epoch 119, MSE 0.0350, [Valid] 0.0350: 100%|█████████████████████████████████████████████████████████████████████████████████████| 24/24 [00:03<00:00,  7.41it/s]\n",
      "epoch 120, loss 0.0353: 100%|████████████████████████████████████████████████████████████████████████████████████████████████████| 94/94 [00:28<00:00,  3.38it/s]\n",
      "epoch 120, MSE 0.0352, [Valid] 0.0352: 100%|█████████████████████████████████████████████████████████████████████████████████████| 24/24 [00:03<00:00,  7.40it/s]\n"
     ]
    },
    {
     "name": "stdout",
     "output_type": "stream",
     "text": [
      "Saved visualize to /home/zhh24/samples/diffuse_epoch_120.png\n"
     ]
    },
    {
     "name": "stderr",
     "output_type": "stream",
     "text": [
      "epoch 121, loss 0.0355: 100%|████████████████████████████████████████████████████████████████████████████████████████████████████| 94/94 [00:29<00:00,  3.38it/s]\n",
      "epoch 121, MSE 0.0359, [Valid] 0.0359: 100%|█████████████████████████████████████████████████████████████████████████████████████| 24/24 [00:03<00:00,  7.42it/s]\n",
      "epoch 122, loss 0.0354: 100%|████████████████████████████████████████████████████████████████████████████████████████████████████| 94/94 [00:29<00:00,  3.38it/s]\n",
      "epoch 122, MSE 0.0352, [Valid] 0.0352: 100%|█████████████████████████████████████████████████████████████████████████████████████| 24/24 [00:03<00:00,  7.41it/s]\n",
      "epoch 123, loss 0.0354: 100%|████████████████████████████████████████████████████████████████████████████████████████████████████| 94/94 [00:29<00:00,  3.38it/s]\n",
      "epoch 123, MSE 0.0351, [Valid] 0.0351: 100%|█████████████████████████████████████████████████████████████████████████████████████| 24/24 [00:03<00:00,  7.41it/s]\n",
      "epoch 124, loss 0.0351: 100%|████████████████████████████████████████████████████████████████████████████████████████████████████| 94/94 [00:29<00:00,  3.38it/s]\n",
      "epoch 124, MSE 0.0354, [Valid] 0.0354: 100%|█████████████████████████████████████████████████████████████████████████████████████| 24/24 [00:03<00:00,  7.40it/s]\n",
      "epoch 125, loss 0.0352: 100%|████████████████████████████████████████████████████████████████████████████████████████████████████| 94/94 [00:28<00:00,  3.39it/s]\n",
      "epoch 125, MSE 0.0352, [Valid] 0.0352: 100%|█████████████████████████████████████████████████████████████████████████████████████| 24/24 [00:03<00:00,  7.41it/s]\n"
     ]
    },
    {
     "name": "stdout",
     "output_type": "stream",
     "text": [
      "Saved visualize to /home/zhh24/samples/diffuse_epoch_125.png\n"
     ]
    },
    {
     "name": "stderr",
     "output_type": "stream",
     "text": [
      "epoch 126, loss 0.0354:  84%|████████████████████████████████████████████████████████████████████████████████████                | 79/94 [00:24<00:04,  3.24it/s]\n"
     ]
    },
    {
     "ename": "KeyboardInterrupt",
     "evalue": "",
     "output_type": "error",
     "traceback": [
      "\u001b[0;31m---------------------------------------------------------------------------\u001b[0m",
      "\u001b[0;31mKeyboardInterrupt\u001b[0m                         Traceback (most recent call last)",
      "\u001b[0;32m/tmp/ipykernel_3819739/1478146272.py\u001b[0m in \u001b[0;36m<module>\u001b[0;34m\u001b[0m\n\u001b[1;32m    220\u001b[0m     \u001b[0msample\u001b[0m\u001b[0;34m(\u001b[0m\u001b[0mmodel\u001b[0m\u001b[0;34m,\u001b[0m\u001b[0msave_dir\u001b[0m\u001b[0;34m=\u001b[0m\u001b[0mos\u001b[0m\u001b[0;34m.\u001b[0m\u001b[0mpath\u001b[0m\u001b[0;34m.\u001b[0m\u001b[0mjoin\u001b[0m\u001b[0;34m(\u001b[0m\u001b[0;34m'./samples'\u001b[0m\u001b[0;34m,\u001b[0m\u001b[0;34mf'init.png'\u001b[0m\u001b[0;34m)\u001b[0m\u001b[0;34m)\u001b[0m\u001b[0;34m\u001b[0m\u001b[0;34m\u001b[0m\u001b[0m\n\u001b[1;32m    221\u001b[0m     \u001b[0mvisualize\u001b[0m\u001b[0;34m(\u001b[0m\u001b[0mmodel\u001b[0m\u001b[0;34m,\u001b[0m\u001b[0msave_dir\u001b[0m\u001b[0;34m=\u001b[0m\u001b[0mos\u001b[0m\u001b[0;34m.\u001b[0m\u001b[0mpath\u001b[0m\u001b[0;34m.\u001b[0m\u001b[0mjoin\u001b[0m\u001b[0;34m(\u001b[0m\u001b[0;34m'./samples'\u001b[0m\u001b[0;34m,\u001b[0m\u001b[0;34mf'init_visualize.png'\u001b[0m\u001b[0;34m)\u001b[0m\u001b[0;34m)\u001b[0m\u001b[0;34m\u001b[0m\u001b[0;34m\u001b[0m\u001b[0m\n\u001b[0;32m--> 222\u001b[0;31m     \u001b[0mtrain\u001b[0m\u001b[0;34m(\u001b[0m\u001b[0;36m200\u001b[0m\u001b[0;34m,\u001b[0m\u001b[0mmodel\u001b[0m\u001b[0;34m,\u001b[0m\u001b[0moptimizer\u001b[0m\u001b[0;34m,\u001b[0m\u001b[0meval_interval\u001b[0m\u001b[0;34m=\u001b[0m\u001b[0;36m5\u001b[0m\u001b[0;34m)\u001b[0m\u001b[0;34m\u001b[0m\u001b[0;34m\u001b[0m\u001b[0m\n\u001b[0m",
      "\u001b[0;32m/tmp/ipykernel_3819739/1478146272.py\u001b[0m in \u001b[0;36mtrain\u001b[0;34m(epochs, model, optimizer, eval_interval)\u001b[0m\n\u001b[1;32m    164\u001b[0m         \u001b[0;32mwith\u001b[0m \u001b[0mtqdm\u001b[0m\u001b[0;34m(\u001b[0m\u001b[0mtrain_loader\u001b[0m\u001b[0;34m)\u001b[0m \u001b[0;32mas\u001b[0m \u001b[0mbar\u001b[0m\u001b[0;34m:\u001b[0m\u001b[0;34m\u001b[0m\u001b[0;34m\u001b[0m\u001b[0m\n\u001b[1;32m    165\u001b[0m             \u001b[0mlosses\u001b[0m \u001b[0;34m=\u001b[0m \u001b[0;34m[\u001b[0m\u001b[0;34m]\u001b[0m\u001b[0;34m\u001b[0m\u001b[0;34m\u001b[0m\u001b[0m\n\u001b[0;32m--> 166\u001b[0;31m             \u001b[0;32mfor\u001b[0m \u001b[0mx\u001b[0m\u001b[0;34m,\u001b[0m\u001b[0m_\u001b[0m \u001b[0;32min\u001b[0m \u001b[0mbar\u001b[0m\u001b[0;34m:\u001b[0m\u001b[0;34m\u001b[0m\u001b[0;34m\u001b[0m\u001b[0m\n\u001b[0m\u001b[1;32m    167\u001b[0m                 \u001b[0mcnt\u001b[0m \u001b[0;34m+=\u001b[0m \u001b[0mx\u001b[0m\u001b[0;34m.\u001b[0m\u001b[0mshape\u001b[0m\u001b[0;34m[\u001b[0m\u001b[0;36m0\u001b[0m\u001b[0;34m]\u001b[0m\u001b[0;34m\u001b[0m\u001b[0;34m\u001b[0m\u001b[0m\n\u001b[1;32m    168\u001b[0m                 \u001b[0mx\u001b[0m \u001b[0;34m=\u001b[0m \u001b[0mpre_process\u001b[0m\u001b[0;34m(\u001b[0m\u001b[0mx\u001b[0m\u001b[0;34m.\u001b[0m\u001b[0mto\u001b[0m\u001b[0;34m(\u001b[0m\u001b[0mdevice\u001b[0m\u001b[0;34m)\u001b[0m\u001b[0;34m)\u001b[0m\u001b[0;34m\u001b[0m\u001b[0;34m\u001b[0m\u001b[0m\n",
      "\u001b[0;32m/nobackup/users/zhh24/anaconda3/envs/DYY/lib/python3.7/site-packages/tqdm/_tqdm.py\u001b[0m in \u001b[0;36m__iter__\u001b[0;34m(self)\u001b[0m\n\u001b[1;32m   1003\u001b[0m                 \"\"\"), fp_write=getattr(self.fp, 'write', sys.stderr.write))\n\u001b[1;32m   1004\u001b[0m \u001b[0;34m\u001b[0m\u001b[0m\n\u001b[0;32m-> 1005\u001b[0;31m             \u001b[0;32mfor\u001b[0m \u001b[0mobj\u001b[0m \u001b[0;32min\u001b[0m \u001b[0miterable\u001b[0m\u001b[0;34m:\u001b[0m\u001b[0;34m\u001b[0m\u001b[0;34m\u001b[0m\u001b[0m\n\u001b[0m\u001b[1;32m   1006\u001b[0m                 \u001b[0;32myield\u001b[0m \u001b[0mobj\u001b[0m\u001b[0;34m\u001b[0m\u001b[0;34m\u001b[0m\u001b[0m\n\u001b[1;32m   1007\u001b[0m                 \u001b[0;31m# Update and possibly print the progressbar.\u001b[0m\u001b[0;34m\u001b[0m\u001b[0;34m\u001b[0m\u001b[0;34m\u001b[0m\u001b[0m\n",
      "\u001b[0;32m/nobackup/users/zhh24/anaconda3/envs/DYY/lib/python3.7/site-packages/torch/utils/data/dataloader.py\u001b[0m in \u001b[0;36m__next__\u001b[0;34m(self)\u001b[0m\n\u001b[1;32m    344\u001b[0m     \u001b[0;32mdef\u001b[0m \u001b[0m__next__\u001b[0m\u001b[0;34m(\u001b[0m\u001b[0mself\u001b[0m\u001b[0;34m)\u001b[0m\u001b[0;34m:\u001b[0m\u001b[0;34m\u001b[0m\u001b[0;34m\u001b[0m\u001b[0m\n\u001b[1;32m    345\u001b[0m         \u001b[0mindex\u001b[0m \u001b[0;34m=\u001b[0m \u001b[0mself\u001b[0m\u001b[0;34m.\u001b[0m\u001b[0m_next_index\u001b[0m\u001b[0;34m(\u001b[0m\u001b[0;34m)\u001b[0m  \u001b[0;31m# may raise StopIteration\u001b[0m\u001b[0;34m\u001b[0m\u001b[0;34m\u001b[0m\u001b[0m\n\u001b[0;32m--> 346\u001b[0;31m         \u001b[0mdata\u001b[0m \u001b[0;34m=\u001b[0m \u001b[0mself\u001b[0m\u001b[0;34m.\u001b[0m\u001b[0mdataset_fetcher\u001b[0m\u001b[0;34m.\u001b[0m\u001b[0mfetch\u001b[0m\u001b[0;34m(\u001b[0m\u001b[0mindex\u001b[0m\u001b[0;34m)\u001b[0m  \u001b[0;31m# may raise StopIteration\u001b[0m\u001b[0;34m\u001b[0m\u001b[0;34m\u001b[0m\u001b[0m\n\u001b[0m\u001b[1;32m    347\u001b[0m         \u001b[0;32mif\u001b[0m \u001b[0mself\u001b[0m\u001b[0;34m.\u001b[0m\u001b[0mpin_memory\u001b[0m\u001b[0;34m:\u001b[0m\u001b[0;34m\u001b[0m\u001b[0;34m\u001b[0m\u001b[0m\n\u001b[1;32m    348\u001b[0m             \u001b[0mdata\u001b[0m \u001b[0;34m=\u001b[0m \u001b[0m_utils\u001b[0m\u001b[0;34m.\u001b[0m\u001b[0mpin_memory\u001b[0m\u001b[0;34m.\u001b[0m\u001b[0mpin_memory\u001b[0m\u001b[0;34m(\u001b[0m\u001b[0mdata\u001b[0m\u001b[0;34m)\u001b[0m\u001b[0;34m\u001b[0m\u001b[0;34m\u001b[0m\u001b[0m\n",
      "\u001b[0;32m/nobackup/users/zhh24/anaconda3/envs/DYY/lib/python3.7/site-packages/torch/utils/data/_utils/fetch.py\u001b[0m in \u001b[0;36mfetch\u001b[0;34m(self, possibly_batched_index)\u001b[0m\n\u001b[1;32m     42\u001b[0m     \u001b[0;32mdef\u001b[0m \u001b[0mfetch\u001b[0m\u001b[0;34m(\u001b[0m\u001b[0mself\u001b[0m\u001b[0;34m,\u001b[0m \u001b[0mpossibly_batched_index\u001b[0m\u001b[0;34m)\u001b[0m\u001b[0;34m:\u001b[0m\u001b[0;34m\u001b[0m\u001b[0;34m\u001b[0m\u001b[0m\n\u001b[1;32m     43\u001b[0m         \u001b[0;32mif\u001b[0m \u001b[0mself\u001b[0m\u001b[0;34m.\u001b[0m\u001b[0mauto_collation\u001b[0m\u001b[0;34m:\u001b[0m\u001b[0;34m\u001b[0m\u001b[0;34m\u001b[0m\u001b[0m\n\u001b[0;32m---> 44\u001b[0;31m             \u001b[0mdata\u001b[0m \u001b[0;34m=\u001b[0m \u001b[0;34m[\u001b[0m\u001b[0mself\u001b[0m\u001b[0;34m.\u001b[0m\u001b[0mdataset\u001b[0m\u001b[0;34m[\u001b[0m\u001b[0midx\u001b[0m\u001b[0;34m]\u001b[0m \u001b[0;32mfor\u001b[0m \u001b[0midx\u001b[0m \u001b[0;32min\u001b[0m \u001b[0mpossibly_batched_index\u001b[0m\u001b[0;34m]\u001b[0m\u001b[0;34m\u001b[0m\u001b[0;34m\u001b[0m\u001b[0m\n\u001b[0m\u001b[1;32m     45\u001b[0m         \u001b[0;32melse\u001b[0m\u001b[0;34m:\u001b[0m\u001b[0;34m\u001b[0m\u001b[0;34m\u001b[0m\u001b[0m\n\u001b[1;32m     46\u001b[0m             \u001b[0mdata\u001b[0m \u001b[0;34m=\u001b[0m \u001b[0mself\u001b[0m\u001b[0;34m.\u001b[0m\u001b[0mdataset\u001b[0m\u001b[0;34m[\u001b[0m\u001b[0mpossibly_batched_index\u001b[0m\u001b[0;34m]\u001b[0m\u001b[0;34m\u001b[0m\u001b[0;34m\u001b[0m\u001b[0m\n",
      "\u001b[0;32m/nobackup/users/zhh24/anaconda3/envs/DYY/lib/python3.7/site-packages/torch/utils/data/_utils/fetch.py\u001b[0m in \u001b[0;36m<listcomp>\u001b[0;34m(.0)\u001b[0m\n\u001b[1;32m     42\u001b[0m     \u001b[0;32mdef\u001b[0m \u001b[0mfetch\u001b[0m\u001b[0;34m(\u001b[0m\u001b[0mself\u001b[0m\u001b[0;34m,\u001b[0m \u001b[0mpossibly_batched_index\u001b[0m\u001b[0;34m)\u001b[0m\u001b[0;34m:\u001b[0m\u001b[0;34m\u001b[0m\u001b[0;34m\u001b[0m\u001b[0m\n\u001b[1;32m     43\u001b[0m         \u001b[0;32mif\u001b[0m \u001b[0mself\u001b[0m\u001b[0;34m.\u001b[0m\u001b[0mauto_collation\u001b[0m\u001b[0;34m:\u001b[0m\u001b[0;34m\u001b[0m\u001b[0;34m\u001b[0m\u001b[0m\n\u001b[0;32m---> 44\u001b[0;31m             \u001b[0mdata\u001b[0m \u001b[0;34m=\u001b[0m \u001b[0;34m[\u001b[0m\u001b[0mself\u001b[0m\u001b[0;34m.\u001b[0m\u001b[0mdataset\u001b[0m\u001b[0;34m[\u001b[0m\u001b[0midx\u001b[0m\u001b[0;34m]\u001b[0m \u001b[0;32mfor\u001b[0m \u001b[0midx\u001b[0m \u001b[0;32min\u001b[0m \u001b[0mpossibly_batched_index\u001b[0m\u001b[0;34m]\u001b[0m\u001b[0;34m\u001b[0m\u001b[0;34m\u001b[0m\u001b[0m\n\u001b[0m\u001b[1;32m     45\u001b[0m         \u001b[0;32melse\u001b[0m\u001b[0;34m:\u001b[0m\u001b[0;34m\u001b[0m\u001b[0;34m\u001b[0m\u001b[0m\n\u001b[1;32m     46\u001b[0m             \u001b[0mdata\u001b[0m \u001b[0;34m=\u001b[0m \u001b[0mself\u001b[0m\u001b[0;34m.\u001b[0m\u001b[0mdataset\u001b[0m\u001b[0;34m[\u001b[0m\u001b[0mpossibly_batched_index\u001b[0m\u001b[0;34m]\u001b[0m\u001b[0;34m\u001b[0m\u001b[0;34m\u001b[0m\u001b[0m\n",
      "\u001b[0;32m/nobackup/users/zhh24/anaconda3/envs/DYY/lib/python3.7/site-packages/torch/utils/data/dataset.py\u001b[0m in \u001b[0;36m__getitem__\u001b[0;34m(self, idx)\u001b[0m\n\u001b[1;32m    254\u001b[0m \u001b[0;34m\u001b[0m\u001b[0m\n\u001b[1;32m    255\u001b[0m     \u001b[0;32mdef\u001b[0m \u001b[0m__getitem__\u001b[0m\u001b[0;34m(\u001b[0m\u001b[0mself\u001b[0m\u001b[0;34m,\u001b[0m \u001b[0midx\u001b[0m\u001b[0;34m)\u001b[0m\u001b[0;34m:\u001b[0m\u001b[0;34m\u001b[0m\u001b[0;34m\u001b[0m\u001b[0m\n\u001b[0;32m--> 256\u001b[0;31m         \u001b[0;32mreturn\u001b[0m \u001b[0mself\u001b[0m\u001b[0;34m.\u001b[0m\u001b[0mdataset\u001b[0m\u001b[0;34m[\u001b[0m\u001b[0mself\u001b[0m\u001b[0;34m.\u001b[0m\u001b[0mindices\u001b[0m\u001b[0;34m[\u001b[0m\u001b[0midx\u001b[0m\u001b[0;34m]\u001b[0m\u001b[0;34m]\u001b[0m\u001b[0;34m\u001b[0m\u001b[0;34m\u001b[0m\u001b[0m\n\u001b[0m\u001b[1;32m    257\u001b[0m \u001b[0;34m\u001b[0m\u001b[0m\n\u001b[1;32m    258\u001b[0m     \u001b[0;32mdef\u001b[0m \u001b[0m__len__\u001b[0m\u001b[0;34m(\u001b[0m\u001b[0mself\u001b[0m\u001b[0;34m)\u001b[0m\u001b[0;34m:\u001b[0m\u001b[0;34m\u001b[0m\u001b[0;34m\u001b[0m\u001b[0m\n",
      "\u001b[0;32m/nobackup/users/zhh24/anaconda3/envs/DYY/lib/python3.7/site-packages/torchvision/datasets/mnist.py\u001b[0m in \u001b[0;36m__getitem__\u001b[0;34m(self, index)\u001b[0m\n\u001b[1;32m     96\u001b[0m \u001b[0;34m\u001b[0m\u001b[0m\n\u001b[1;32m     97\u001b[0m         \u001b[0;32mif\u001b[0m \u001b[0mself\u001b[0m\u001b[0;34m.\u001b[0m\u001b[0mtransform\u001b[0m \u001b[0;32mis\u001b[0m \u001b[0;32mnot\u001b[0m \u001b[0;32mNone\u001b[0m\u001b[0;34m:\u001b[0m\u001b[0;34m\u001b[0m\u001b[0;34m\u001b[0m\u001b[0m\n\u001b[0;32m---> 98\u001b[0;31m             \u001b[0mimg\u001b[0m \u001b[0;34m=\u001b[0m \u001b[0mself\u001b[0m\u001b[0;34m.\u001b[0m\u001b[0mtransform\u001b[0m\u001b[0;34m(\u001b[0m\u001b[0mimg\u001b[0m\u001b[0;34m)\u001b[0m\u001b[0;34m\u001b[0m\u001b[0;34m\u001b[0m\u001b[0m\n\u001b[0m\u001b[1;32m     99\u001b[0m \u001b[0;34m\u001b[0m\u001b[0m\n\u001b[1;32m    100\u001b[0m         \u001b[0;32mif\u001b[0m \u001b[0mself\u001b[0m\u001b[0;34m.\u001b[0m\u001b[0mtarget_transform\u001b[0m \u001b[0;32mis\u001b[0m \u001b[0;32mnot\u001b[0m \u001b[0;32mNone\u001b[0m\u001b[0;34m:\u001b[0m\u001b[0;34m\u001b[0m\u001b[0;34m\u001b[0m\u001b[0m\n",
      "\u001b[0;32m/nobackup/users/zhh24/anaconda3/envs/DYY/lib/python3.7/site-packages/torchvision/transforms/transforms.py\u001b[0m in \u001b[0;36m__call__\u001b[0;34m(self, img)\u001b[0m\n\u001b[1;32m     59\u001b[0m     \u001b[0;32mdef\u001b[0m \u001b[0m__call__\u001b[0m\u001b[0;34m(\u001b[0m\u001b[0mself\u001b[0m\u001b[0;34m,\u001b[0m \u001b[0mimg\u001b[0m\u001b[0;34m)\u001b[0m\u001b[0;34m:\u001b[0m\u001b[0;34m\u001b[0m\u001b[0;34m\u001b[0m\u001b[0m\n\u001b[1;32m     60\u001b[0m         \u001b[0;32mfor\u001b[0m \u001b[0mt\u001b[0m \u001b[0;32min\u001b[0m \u001b[0mself\u001b[0m\u001b[0;34m.\u001b[0m\u001b[0mtransforms\u001b[0m\u001b[0;34m:\u001b[0m\u001b[0;34m\u001b[0m\u001b[0;34m\u001b[0m\u001b[0m\n\u001b[0;32m---> 61\u001b[0;31m             \u001b[0mimg\u001b[0m \u001b[0;34m=\u001b[0m \u001b[0mt\u001b[0m\u001b[0;34m(\u001b[0m\u001b[0mimg\u001b[0m\u001b[0;34m)\u001b[0m\u001b[0;34m\u001b[0m\u001b[0;34m\u001b[0m\u001b[0m\n\u001b[0m\u001b[1;32m     62\u001b[0m         \u001b[0;32mreturn\u001b[0m \u001b[0mimg\u001b[0m\u001b[0;34m\u001b[0m\u001b[0;34m\u001b[0m\u001b[0m\n\u001b[1;32m     63\u001b[0m \u001b[0;34m\u001b[0m\u001b[0m\n",
      "\u001b[0;32m/nobackup/users/zhh24/anaconda3/envs/DYY/lib/python3.7/site-packages/torchvision/transforms/transforms.py\u001b[0m in \u001b[0;36m__call__\u001b[0;34m(self, tensor)\u001b[0m\n\u001b[1;32m    164\u001b[0m             \u001b[0mTensor\u001b[0m\u001b[0;34m:\u001b[0m \u001b[0mNormalized\u001b[0m \u001b[0mTensor\u001b[0m \u001b[0mimage\u001b[0m\u001b[0;34m.\u001b[0m\u001b[0;34m\u001b[0m\u001b[0;34m\u001b[0m\u001b[0m\n\u001b[1;32m    165\u001b[0m         \"\"\"\n\u001b[0;32m--> 166\u001b[0;31m         \u001b[0;32mreturn\u001b[0m \u001b[0mF\u001b[0m\u001b[0;34m.\u001b[0m\u001b[0mnormalize\u001b[0m\u001b[0;34m(\u001b[0m\u001b[0mtensor\u001b[0m\u001b[0;34m,\u001b[0m \u001b[0mself\u001b[0m\u001b[0;34m.\u001b[0m\u001b[0mmean\u001b[0m\u001b[0;34m,\u001b[0m \u001b[0mself\u001b[0m\u001b[0;34m.\u001b[0m\u001b[0mstd\u001b[0m\u001b[0;34m,\u001b[0m \u001b[0mself\u001b[0m\u001b[0;34m.\u001b[0m\u001b[0minplace\u001b[0m\u001b[0;34m)\u001b[0m\u001b[0;34m\u001b[0m\u001b[0;34m\u001b[0m\u001b[0m\n\u001b[0m\u001b[1;32m    167\u001b[0m \u001b[0;34m\u001b[0m\u001b[0m\n\u001b[1;32m    168\u001b[0m     \u001b[0;32mdef\u001b[0m \u001b[0m__repr__\u001b[0m\u001b[0;34m(\u001b[0m\u001b[0mself\u001b[0m\u001b[0;34m)\u001b[0m\u001b[0;34m:\u001b[0m\u001b[0;34m\u001b[0m\u001b[0;34m\u001b[0m\u001b[0m\n",
      "\u001b[0;32m/nobackup/users/zhh24/anaconda3/envs/DYY/lib/python3.7/site-packages/torchvision/transforms/functional.py\u001b[0m in \u001b[0;36mnormalize\u001b[0;34m(tensor, mean, std, inplace)\u001b[0m\n\u001b[1;32m    215\u001b[0m     \u001b[0mmean\u001b[0m \u001b[0;34m=\u001b[0m \u001b[0mtorch\u001b[0m\u001b[0;34m.\u001b[0m\u001b[0mas_tensor\u001b[0m\u001b[0;34m(\u001b[0m\u001b[0mmean\u001b[0m\u001b[0;34m,\u001b[0m \u001b[0mdtype\u001b[0m\u001b[0;34m=\u001b[0m\u001b[0mdtype\u001b[0m\u001b[0;34m,\u001b[0m \u001b[0mdevice\u001b[0m\u001b[0;34m=\u001b[0m\u001b[0mtensor\u001b[0m\u001b[0;34m.\u001b[0m\u001b[0mdevice\u001b[0m\u001b[0;34m)\u001b[0m\u001b[0;34m\u001b[0m\u001b[0;34m\u001b[0m\u001b[0m\n\u001b[1;32m    216\u001b[0m     \u001b[0mstd\u001b[0m \u001b[0;34m=\u001b[0m \u001b[0mtorch\u001b[0m\u001b[0;34m.\u001b[0m\u001b[0mas_tensor\u001b[0m\u001b[0;34m(\u001b[0m\u001b[0mstd\u001b[0m\u001b[0;34m,\u001b[0m \u001b[0mdtype\u001b[0m\u001b[0;34m=\u001b[0m\u001b[0mdtype\u001b[0m\u001b[0;34m,\u001b[0m \u001b[0mdevice\u001b[0m\u001b[0;34m=\u001b[0m\u001b[0mtensor\u001b[0m\u001b[0;34m.\u001b[0m\u001b[0mdevice\u001b[0m\u001b[0;34m)\u001b[0m\u001b[0;34m\u001b[0m\u001b[0;34m\u001b[0m\u001b[0m\n\u001b[0;32m--> 217\u001b[0;31m     \u001b[0mtensor\u001b[0m\u001b[0;34m.\u001b[0m\u001b[0msub_\u001b[0m\u001b[0;34m(\u001b[0m\u001b[0mmean\u001b[0m\u001b[0;34m[\u001b[0m\u001b[0;34m:\u001b[0m\u001b[0;34m,\u001b[0m \u001b[0;32mNone\u001b[0m\u001b[0;34m,\u001b[0m \u001b[0;32mNone\u001b[0m\u001b[0;34m]\u001b[0m\u001b[0;34m)\u001b[0m\u001b[0;34m.\u001b[0m\u001b[0mdiv_\u001b[0m\u001b[0;34m(\u001b[0m\u001b[0mstd\u001b[0m\u001b[0;34m[\u001b[0m\u001b[0;34m:\u001b[0m\u001b[0;34m,\u001b[0m \u001b[0;32mNone\u001b[0m\u001b[0;34m,\u001b[0m \u001b[0;32mNone\u001b[0m\u001b[0;34m]\u001b[0m\u001b[0;34m)\u001b[0m\u001b[0;34m\u001b[0m\u001b[0;34m\u001b[0m\u001b[0m\n\u001b[0m\u001b[1;32m    218\u001b[0m     \u001b[0;32mreturn\u001b[0m \u001b[0mtensor\u001b[0m\u001b[0;34m\u001b[0m\u001b[0;34m\u001b[0m\u001b[0m\n\u001b[1;32m    219\u001b[0m \u001b[0;34m\u001b[0m\u001b[0m\n",
      "\u001b[0;31mKeyboardInterrupt\u001b[0m: "
     ]
    }
   ],
   "source": [
    "import sys\n",
    "import os\n",
    "\n",
    "# parent_dir = os.path.abspath('/root/DeepLearning')\n",
    "parent_dir = os.path.abspath('/home/zhh24/DeepLearning')\n",
    "\n",
    "sys.path.append(parent_dir)\n",
    "print('appended',parent_dir)\n",
    "\n",
    "import utils\n",
    "\n",
    "from tqdm import tqdm\n",
    "import torch\n",
    "import torch.nn.functional as F\n",
    "import torchvision.utils\n",
    "\n",
    "import matplotlib.pyplot as plt\n",
    "device = 'cuda' if torch.cuda.is_available() else 'cpu'\n",
    "torch.autograd.set_detect_anomaly(True)\n",
    "mnist = utils.MNIST(batch_size=512)\n",
    "train_loader = mnist.train_dataloader\n",
    "valid_loader = mnist.valid_dataloader\n",
    "T=500\n",
    "\n",
    "\n",
    "                    # beta1=1e-4 # variance of lowest temperature\n",
    "                    # betaT=5e-2 # variance of highest temperature\n",
    "                    # # MODIFIED\n",
    "\n",
    "                    # # step = torch.log(torch.tensor(betaT/beta1))/(T-1)\n",
    "                    # # betas = beta1 * torch.exp(step*torch.arange(T,dtype=torch.float).to(device))\n",
    "                    # step = (betaT-beta1)/(T-1)\n",
    "                    # betas = torch.arange(T,dtype=torch.float,device=device) * step + beta1\n",
    "\n",
    "\n",
    "                    # alphas = 1-betas\n",
    "                    # alpha_bars = alphas.clone()\n",
    "                    # for i in range(1,T):\n",
    "                    #     alpha_bars[i] *= alpha_bars[i-1]\n",
    "\n",
    "\n",
    "# we re-define a way to generate hyperparameters\n",
    "alpha_bar_0 = .9\n",
    "# alpha_bar_mid = .3\n",
    "alpha_bar_T = 1e-3\n",
    "alpha_bars = torch.zeros(T,dtype=torch.float)\n",
    "# alpha_bars[:T//2] = alpha_bar_0 + (alpha_bar_mid-alpha_bar_0) * torch.arange(T//2,dtype=torch.float,device=device) / (T//2)\n",
    "# alpha_bars[T//2:] = alpha_bar_mid + (alpha_bar_T-alpha_bar_mid) * torch.arange(T//2,dtype=torch.float,device=device) / (T//2)\n",
    "alpha_bars = alpha_bar_0 + (alpha_bar_T-alpha_bar_0) * torch.arange(T,dtype=torch.float,device=device) / T\n",
    "alphas = alpha_bars.clone()\n",
    "for i in range(1,T):\n",
    "    alphas[i] = alpha_bars[i] / alpha_bars[i-1]\n",
    "betas = 1-alphas\n",
    "\n",
    "print(alpha_bars)\n",
    "print('range of bars',alpha_bars.min(),alpha_bars.max())\n",
    "# print(alphas)\n",
    "\n",
    "sqrt = torch.sqrt\n",
    "sigmas = sqrt(betas * (1-alpha_bars / alphas)/(1-alpha_bars))\n",
    "sigmas[0] = 1\n",
    "print('range of sigmas,',sigmas.min(),sigmas.max())\n",
    "alphas = alphas.to(device)\n",
    "alpha_bars = alpha_bars.to(device)\n",
    "betas = betas.to(device)\n",
    "sigmas = sigmas.to(device)\n",
    "weights = torch.ones(T,dtype=torch.float,device=device)\n",
    "\n",
    "@torch.no_grad()\n",
    "def sample(model:DDPM,save_dir):\n",
    "    x = torch.randn([100,784]).to(device)\n",
    "    for t in range(T-1,-1,-1):\n",
    "        sigmaz = torch.randn_like(x)*sigmas[t]\n",
    "        if t==0:\n",
    "            sigmaz = 0\n",
    "        x = (x-(1-alphas[t])/(sqrt(1-alpha_bars[t]))*model(x,t*torch.ones(x.shape[0],dtype=torch.long,device=device)))/(sqrt(alphas[t]))+sigmaz\n",
    "        # x = torch.clamp(x,0,1)\n",
    "    grid = torchvision.utils.make_grid(post_process(x).reshape(-1,1,28,28).cpu(), nrow=10)\n",
    "    torchvision.utils.save_image(grid, save_dir)\n",
    "\n",
    "@torch.no_grad()\n",
    "def visualize(model,save_dir):\n",
    "    interval = (T-1) // 20\n",
    "    x = torch.randn([10,784]).to(device)\n",
    "    x_history = []\n",
    "    for t in range(T-1,-1,-1):\n",
    "        sigmaz = torch.randn_like(x)*((betas[t])**0.5).to(device)\n",
    "        if t==0:\n",
    "            sigmaz = 0\n",
    "        x = (x-(1-alphas[t])/(sqrt(1-alpha_bars[t]))*model(x,t*torch.ones(x.shape[0],dtype=torch.long,device=device)))/(sqrt(alphas[t]))+sigmaz\n",
    "        # x = torch.clamp(x,0,1)\n",
    "        x_history.append(x)\n",
    "    # print('cat.shape',torch.cat(x_history,dim=0).shape)\n",
    "    grid = torchvision.utils.make_grid(post_process(torch.stack(x_history,dim=0)[::interval,...]).reshape(-1,1,28,28).cpu(), nrow=10)\n",
    "    torchvision.utils.save_image(grid, save_dir)\n",
    "    print('Saved visualize to',os.path.abspath(save_dir))\n",
    "\n",
    "@torch.no_grad()\n",
    "def visualize_denoise(model,save_dir):\n",
    "    # get 10 images from the dataset\n",
    "    x,_ = next(iter(valid_loader))\n",
    "    x = x[:20,...].reshape(20,784).to(device)\n",
    "    x = pre_process(x)\n",
    "    t = torch.tensor([i * T // 20 for i in range(20)],dtype=torch.long,device=device)\n",
    "    noise = torch.randn_like(x).reshape(-1,784)\n",
    "    v1 = (sqrt(alpha_bars[t]).reshape(-1,1)*x).reshape(-1,784)\n",
    "    v2 = sqrt(1-alpha_bars[t]).reshape(-1,1)*noise\n",
    "    x_corr = v1+v2\n",
    "    est = model(x_corr,t)\n",
    "    x_rec = (x_corr - sqrt(1-alpha_bars[t]).reshape(-1,1)*est)/(sqrt(alpha_bars[t])).reshape(-1,1)\n",
    "    grid_orig = torchvision.utils.make_grid(post_process(x).reshape(-1,1,28,28).cpu(), nrow=10)\n",
    "    grid_corr = torchvision.utils.make_grid(post_process(x_corr).reshape(-1,1,28,28).cpu(), nrow=10)\n",
    "    grid_rec = torchvision.utils.make_grid(post_process(x_rec).reshape(-1,1,28,28).cpu(), nrow=10)\n",
    "    # add noise level infomation to the image\n",
    "    noise_level = (1-alpha_bars[t]).reshape(-1).tolist()\n",
    "    ori_mse = noise.pow(2).mean(dim=1).reshape(-1).tolist()\n",
    "    mse = ((est-noise)**2).mean(dim=1).reshape(-1).tolist()\n",
    "    print(noise_level)\n",
    "    print(ori_mse)\n",
    "    print(mse)\n",
    "    grid = torch.cat([grid_orig,grid_corr,grid_rec],dim=1)\n",
    "    torchvision.utils.save_image(grid, save_dir)\n",
    "    print('Saved denoise to',os.path.abspath(save_dir))\n",
    "\n",
    "def plot_loss(losses,save_dir):\n",
    "    losses_vals, t_vals = zip(*losses)\n",
    "    losses_vals = torch.cat(losses_vals,dim=0)\n",
    "    t_vals = torch.cat(t_vals,dim=0)\n",
    "    # print('t_vals',t_vals)\n",
    "    # print('losses_vals',losses_vals)\n",
    "\n",
    "    results = []\n",
    "    for t in range(T):\n",
    "        this_t = abs(t_vals.float()-float(t))<0.5\n",
    "        results.append(torch.sum(torch.where(this_t,losses_vals,torch.tensor(0.,device=device))).item() / (torch.sum(this_t.float())+1e-3).item())\n",
    "    plt.plot(results)\n",
    "    plt.ylim(0,max(results)* 1.2)\n",
    "    plt.savefig(save_dir)\n",
    "    plt.close()\n",
    "    # weights = (torch.tensor(results,device=device)) # weights\n",
    "    weights = torch.ones(T,dtype=torch.float,device=device)\n",
    "    # weights[:10]=0\n",
    "    # weights[10:80] /= 100\n",
    "    return weights\n",
    "\n",
    "def pre_process(x):\n",
    "    # do the logit transform\n",
    "    # return (torch.log(x+1e-3)-torch.log(1-x+1e-3))\n",
    "    return x*2-1 #MODIFIED\n",
    "    return (x+1)/2\n",
    "\n",
    "def post_process(x):\n",
    "    # return torch.sigmoid(x)\n",
    "    return (x+1)/2 #MODIFIED\n",
    "    return x*2-1\n",
    "\n",
    "def train(epochs,model:DDPM,optimizer,eval_interval=5):\n",
    "    global weights\n",
    "    for epoch in range(epochs):\n",
    "        # print('weights normalized:',weights/weights.sum())\n",
    "        all_ts = torch.distributions.Categorical(weights).sample((50000,))\n",
    "        cnt = 0\n",
    "        model.train()\n",
    "        with tqdm(train_loader) as bar:\n",
    "            losses = []\n",
    "            for x,_ in bar:\n",
    "                cnt += x.shape[0]\n",
    "                x = pre_process(x.to(device))\n",
    "                epss = torch.randn_like(x).reshape(-1,784).to(device)\n",
    "                # ts = torch.randint(0,T,(x.shape[0],),device=device,dtype=torch.long)\n",
    "                ts = all_ts[cnt-x.shape[0]:cnt]\n",
    "                alpha_tbars = alpha_bars[ts]\n",
    "                value = (sqrt(alpha_tbars).reshape(-1,1,1,1)*x).reshape(-1,784)+sqrt(1-alpha_tbars).reshape(-1,1)*epss\n",
    "                out = model(value,ts) # [batch,784]\n",
    "                # loss = ((epss-out).pow(2).mean(dim=-1) * (betas[ts])/(2*alphas[ts]*(1-alpha_tbars))).sum(dim=0)\n",
    "                loss = ((epss-out).pow(2).mean(dim=-1)).mean(dim=0)\n",
    "\n",
    "                optimizer.zero_grad()\n",
    "                loss.backward()\n",
    "                optimizer.step()\n",
    "                losses.append(loss.item())\n",
    "                bar.set_description('epoch {}, loss {:.4f}'.format(epoch,sum(losses)/len(losses)))\n",
    "\n",
    "        model.eval()\n",
    "        with torch.no_grad():\n",
    "            with tqdm(valid_loader) as bar:\n",
    "                mses = []\n",
    "                losses = []\n",
    "                losses_for_t = []\n",
    "                for x,_ in bar:\n",
    "                    x = pre_process(x.to(device))\n",
    "                    epss = torch.randn_like(x).reshape(-1,784).to(device)\n",
    "                    ts = torch.randint(0,T,(x.shape[0],),device=device,dtype=torch.long)\n",
    "                    # print(ts)\n",
    "                    alpha_tbars = alpha_bars[ts]\n",
    "                    value = (sqrt(alpha_tbars).reshape(-1,1,1,1)*x).reshape(-1,784)+sqrt(1-alpha_tbars).reshape(-1,1)*epss\n",
    "                    out = model(value,ts)\n",
    "                    mse = F.mse_loss(epss,out)\n",
    "                    mses.append(mse.item())\n",
    "                    loss = ((epss-out).pow(2).mean(dim=-1))\n",
    "                    # loss = (epss-out).pow(2).mean(dim=-1)\n",
    "                    losses_for_t.append((loss.clone().detach(),ts))\n",
    "                    loss = (loss).mean(dim=0)\n",
    "                    losses.append(loss.item())\n",
    "                    bar.set_description('epoch {}, MSE {:.4f}, [Valid] {:.4f}'.format(epoch,sum(mses)/len(mses),sum(losses)/len(losses)))\n",
    "                    \n",
    "        if epoch % eval_interval == 0:\n",
    "            visualize(model,save_dir=os.path.join('./samples',f'diffuse_epoch_{epoch}.png'))\n",
    "            sample(model,save_dir=os.path.join('./samples',f'sample_epoch_{epoch}.png'))\n",
    "            # visualize_denoise(model,save_dir=os.path.join('./samples',f'denoise_epoch_{epoch}.png'))\n",
    "            weights = plot_loss(losses_for_t,save_dir=os.path.join('./samples',f'loss_epoch_{epoch}.png'))\n",
    "            torch.save(model,os.path.join('./samples',f'epoch_{epoch}.pt'))\n",
    "\n",
    "if __name__ == '__main__':\n",
    "    model = DDPM().to(device)\n",
    "    print('Number parameters of the model:', sum(p.numel() for p in model.parameters()))\n",
    "    print('Model strcuture:',model)\n",
    "    optimizer = torch.optim.Adam(model.parameters(),lr=1e-3)\n",
    "    os.makedirs('./samples',exist_ok=True)\n",
    "    sample(model,save_dir=os.path.join('./samples',f'init.png'))\n",
    "    visualize(model,save_dir=os.path.join('./samples',f'init_visualize.png'))\n",
    "    train(200,model,optimizer,eval_interval=5)"
   ]
  },
  {
   "cell_type": "code",
   "execution_count": null,
   "metadata": {},
   "outputs": [],
   "source": []
  }
 ],
 "metadata": {
  "kernelspec": {
   "display_name": "Python 3 (ipykernel)",
   "language": "python",
   "name": "python3"
  },
  "language_info": {
   "codemirror_mode": {
    "name": "ipython",
    "version": 3
   },
   "file_extension": ".py",
   "mimetype": "text/x-python",
   "name": "python",
   "nbconvert_exporter": "python",
   "pygments_lexer": "ipython3",
   "version": "3.7.6"
  }
 },
 "nbformat": 4,
 "nbformat_minor": 2
}
